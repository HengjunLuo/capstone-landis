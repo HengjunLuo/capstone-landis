{
 "cells": [
  {
   "cell_type": "markdown",
   "metadata": {},
   "source": [
    "#### *Run this cell to resolve import issues*"
   ]
  },
  {
   "cell_type": "code",
   "execution_count": 1,
   "metadata": {},
   "outputs": [],
   "source": [
    "import os\n",
    "import sys\n",
    "module_path = os.path.abspath(os.path.join('../src'))\n",
    "if module_path not in sys.path:\n",
    "    sys.path.append(module_path)"
   ]
  },
  {
   "cell_type": "markdown",
   "metadata": {},
   "source": [
    "#### Imports and variables"
   ]
  },
  {
   "cell_type": "code",
   "execution_count": 8,
   "metadata": {},
   "outputs": [],
   "source": [
    "import numpy as np\n",
    "import pandas as pd\n",
    "%matplotlib inline\n",
    "import matplotlib.pyplot as plt\n",
    "from log_parser import parse_keyboard_log\n",
    "from numpy_ringbuffer import RingBuffer\n",
    "\n",
    "# Size of sliding window for each key \n",
    "# (mean and stddev of the last {sample_size} key taps)\n",
    "sample_size = 20\n",
    "\n",
    "# Amount of data to record before overwriting old data\n",
    "data_window_size = 100\n",
    "\n",
    "# Read logfile paths from .routing\n",
    "log_paths = None"
   ]
  },
  {
   "cell_type": "markdown",
   "metadata": {},
   "source": [
    "#### Data persistent functions"
   ]
  },
  {
   "cell_type": "code",
   "execution_count": 9,
   "metadata": {},
   "outputs": [],
   "source": [
    "# Save data to file in profiles directory\n",
    "def save_tap_data(profile, data):\n",
    "    with open(f\"profiles/{profile}.txt\", 'w', encoding='utf-8') as f:\n",
    "        keys = list(data.keys())      # List keys that have data associated with them\n",
    "        for key in keys:              # For each key\n",
    "            values = list(data[key])  # List data values\n",
    "            f.write(str(key) + ',' + str(data[key].shape[0]) + ',') # Write key and #values\n",
    "            f.write(','.join(format(x, \"0.4f\") for x in values))    # Write values\n",
    "            f.write('\\n')                                           # Formatting\n",
    "\n",
    "\n",
    "# Load data from saved profile and return a dict\n",
    "def load_tap_data (profile):\n",
    "    duration_data = {}  # Dict to store data\n",
    "\n",
    "    with open(f\"profiles/{profile}.txt\", 'r', encoding='utf-8') as f:\n",
    "        lines = f.read().splitlines()   # Read lines without '\\n's\n",
    "        for line in lines:\n",
    "            data = line.split(',') # Separate values by commas\n",
    "\n",
    "            # Create key and initialize ring buffer\n",
    "            key = data[0]          # First value is the key\n",
    "            duration_data[key] = RingBuffer(\n",
    "                capacity = data_window_size * 2,\n",
    "                dtype = float )\n",
    "            for value in data[2:]:  # Append following values to the ring buffer\n",
    "                duration_data[key].append(value)\n",
    "    \n",
    "    return duration_data\n"
   ]
  },
  {
   "cell_type": "markdown",
   "metadata": {},
   "source": [
    "### Gather key tap duration data from log files\n",
    "Records all quick presses (\"taps\") of keys, calculate the mean and stddev of the last\n",
    "{sample_size} taps, and store the data in a larger sliding window of size {data_window_size}.\n",
    "\n",
    "*Currently the last 20 taps are analyzed and the last 100 are used to train the user's profile.*\n",
    "\n",
    "---"
   ]
  },
  {
   "cell_type": "code",
   "execution_count": 10,
   "metadata": {},
   "outputs": [],
   "source": [
    "# Read logfile paths from .routing\n",
    "with open(\"../.routing\", 'r', encoding='utf-8') as f:\n",
    "    log_paths = f.read().splitlines()   # Read lines without '\\n's\n",
    "\n",
    "#if log_paths == None: handle error or something\n",
    "\n",
    "for log_path in log_paths: # For each log file\n",
    "\n",
    "    if \"key.log\" not in log_path: continue      # Make sure it's a keylog\n",
    "    profile = ''.join(log_path.split('/')[2:4]) # Concatenate profile+character dir names\n",
    "    kb = parse_keyboard_log(\"../\" + log_path)   # Convert keylog to DataFrame\n",
    "\n",
    "    durations_dict = {} # Map each key to a ring buffer of size {sample_size}\n",
    "    presstimes     = {} # Record the 'last pressed' time of each key\n",
    "    duration_data  = {} # Records the mean/stddev of each key sample window\n",
    "    \n",
    "    for _, row in kb.iterrows():    # Analyze each piece of data one at a time\n",
    "        key = str(row.key).replace('\\'', '') # Get rid of ' characters\n",
    "\n",
    "        if key not in durations_dict.keys():   # If key not added to dict yet\n",
    "            durations_dict[key] = RingBuffer(capacity=sample_size, dtype=float) # Add it\n",
    "        \n",
    "        if row.action == 'pressed':     # If key was pressed\n",
    "            presstimes[key] = row.time  # Record time of press\n",
    "        \n",
    "        # If key was released and it has been pressed before\n",
    "        elif row.action == 'released' and key in presstimes.keys():\n",
    "            duration = row.time - presstimes[key] # Calculate press duration\n",
    "\n",
    "            if duration < 0.4: # Only append key taps (<0.4s)\n",
    "                durations_dict[key].append(duration) # Append tap duration to ring buffer\n",
    "\n",
    "                durations_np = np.array(durations_dict[key]) # Convert to numpy array\n",
    "                if durations_np.size > 3:   # If more than 3 samples in the ring buffer\n",
    "                    \n",
    "                    if key not in duration_data.keys():   # If key not added to data dict yet\n",
    "                        duration_data[key] = RingBuffer(  # Add it\n",
    "                            capacity = data_window_size * 2,\n",
    "                            dtype = float )\n",
    "\n",
    "                    # Interleave data (mean0,std0,mean1,std1,mean2,std2,...)\n",
    "                    duration_data[key].append(durations_np.mean())\n",
    "                    duration_data[key].append(durations_np.std()) \n",
    "\n",
    "    # Write data to file\n",
    "    save_tap_data(profile, duration_data)\n",
    "\n"
   ]
  }
 ],
 "metadata": {
  "interpreter": {
   "hash": "fc8fcea185759fcd4ced888c45e77e126815f619fce971cc6d778df862c8ecb1"
  },
  "kernelspec": {
   "display_name": "Python 3.8.10 64-bit ('base': conda)",
   "language": "python",
   "name": "python3"
  },
  "language_info": {
   "codemirror_mode": {
    "name": "ipython",
    "version": 3
   },
   "file_extension": ".py",
   "mimetype": "text/x-python",
   "name": "python",
   "nbconvert_exporter": "python",
   "pygments_lexer": "ipython3",
   "version": "3.8.10"
  },
  "orig_nbformat": 4
 },
 "nbformat": 4,
 "nbformat_minor": 2
}
