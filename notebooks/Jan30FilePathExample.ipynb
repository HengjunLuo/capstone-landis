{
 "cells": [
  {
   "cell_type": "markdown",
   "metadata": {},
   "source": [
    "### *This is an example to run top_secret.py in the notebook at the current notebooks folder"
   ]
  },
  {
   "cell_type": "markdown",
   "metadata": {},
   "source": [
    "#### *Run this cell to resolve import issues*"
   ]
  },
  {
   "cell_type": "code",
   "execution_count": 1,
   "metadata": {},
   "outputs": [],
   "source": [
    "import os\n",
    "import sys\n",
    "module_path = os.path.abspath(os.path.join('../src'))\n",
    "if module_path not in sys.path:\n",
    "    sys.path.append(module_path)"
   ]
  },
  {
   "cell_type": "code",
   "execution_count": 19,
   "metadata": {},
   "outputs": [
    {
     "name": "stdout",
     "output_type": "stream",
     "text": [
      "target:MARSOL\n",
      "Soft Train score: 0.975975975975976 Soft Test score: 0.9372197309417041\n",
      "Hard Train score: 0.9474474474474475 Hard Test score: 0.9327354260089686\n",
      "RFC Train score: 1.0 RFC Test score: 0.9596412556053812\n",
      "KNN Train score: 0.9414414414414415 KNN Test score: 0.9327354260089686\n",
      "Hard Vote Confusion Matrix:\n"
     ]
    },
    {
     "data": {
      "image/png": "[encoded data removed]",
      "text/plain": [
       "<Figure size 432x288 with 2 Axes>"
      ]
     },
     "metadata": {
      "needs_background": "light"
     },
     "output_type": "display_data"
    },
    {
     "name": "stdout",
     "output_type": "stream",
     "text": [
      "RF Confusion Matrix:\n"
     ]
    },
    {
     "data": {
      "image/png": "[encoded data removed]",
      "text/plain": [
       "<Figure size 432x288 with 2 Axes>"
      ]
     },
     "metadata": {
      "needs_background": "light"
     },
     "output_type": "display_data"
    },
    {
     "name": "stdout",
     "output_type": "stream",
     "text": [
      "KNN Confusion Matrix:\n"
     ]
    },
    {
     "data": {
      "image/png": "[encoded data removed]",
      "text/plain": [
       "<Figure size 432x288 with 2 Axes>"
      ]
     },
     "metadata": {
      "needs_background": "light"
     },
     "output_type": "display_data"
    }
   ],
   "source": [
    "from log_parser import parse_keyboard_log\n",
    "from log_parser import parse_mouse_log\n",
    "from keyboard_heatmap import KeyboardHeatmap\n",
    "from sklearn.ensemble import RandomForestClassifier\n",
    "from sklearn.neural_network import MLPClassifier\n",
    "from sklearn.neighbors import KNeighborsClassifier\n",
    "from sklearn.ensemble import VotingClassifier\n",
    "from sklearn.model_selection import train_test_split\n",
    "\n",
    "\n",
    "# Set to false to test non-binary classification\n",
    "test_binary = True\n",
    "\n",
    "# List of parsed logfiles\n",
    "keyboard = []\n",
    "mouse = []\n",
    "\n",
    "# Read logfile paths from .routing\n",
    "with open(\"../.routing\", 'r', encoding='utf-8') as f:\n",
    "    log_paths = f.read().splitlines()   # Read lines without '\\n's\n",
    "    for path in log_paths:\n",
    "        if 'key.log' in path:\n",
    "            keyboard.append(parse_keyboard_log('../' + path))\n",
    "        elif 'mouse.log' in path:\n",
    "            mouse.append(parse_mouse_log('../' + path))\n",
    "\n",
    "# 60 second segments fuggetaboutit\n",
    "train_seg_length = 60\n",
    "test_seg_length = 60\n",
    "# The quintessential target class\n",
    "target = \"MARSOL\"\n",
    "\n",
    "# Empty lists for inserting data\n",
    "X_actual = []\n",
    "Y_actual = []\n",
    "\n",
    "# For confusion matrix plotting\n",
    "labels = []\n",
    "\n",
    "for k in range(len(keyboard)):\n",
    "    l = None\n",
    "    for i in range(int(keyboard[k].time.iloc[-1] / train_seg_length)):\n",
    "        # For each segment in each logfile\n",
    "        # Create a heatmap for that segment\n",
    "        heatmap = KeyboardHeatmap(keyboard[k], i, train_seg_length)\n",
    "        if test_binary: heatmap = heatmap.to_binary_class_label(target)\n",
    "        # If the heatmap isn't blank\n",
    "        if heatmap.class_label() != 'Null':\n",
    "            X_actual.append(heatmap.heatmap_data().ravel().tolist())\n",
    "            Y_actual.append(heatmap.class_label())\n",
    "        \n",
    "        l = heatmap.class_label()\n",
    "    labels.append(l)\n",
    "\n",
    "X_train, X_test, Y_train, Y_test = train_test_split(X_actual, Y_actual, random_state=0)\n",
    "\n",
    "# ensemble of models\n",
    "estimator = []\n",
    "estimator.append(('RF', RandomForestClassifier(\n",
    "    n_jobs=-1, \n",
    "    criterion='gini',\n",
    "    max_features= 'sqrt',\n",
    "    n_estimators = 100, \n",
    "    oob_score = True)))\n",
    "estimator.append(('KNN', KNeighborsClassifier(\n",
    "    n_neighbors=5 # we dont talk about this number\n",
    "    )))\n",
    "\n",
    "print(\"target:\" + target)\n",
    "\n",
    "# Voting Classifier with soft voting\n",
    "vot_soft = VotingClassifier(estimators = estimator, voting ='soft')\n",
    "vot_soft.fit(X_train, Y_train)\n",
    "\n",
    "print( f\"Soft Train score: {vot_soft.score(X_train, Y_train)} \" + f\"Soft Test score: {vot_soft.score(X_test, Y_test)}\")\n",
    "\n",
    "# Voting Classifier with hard voting\n",
    "vot_hard = VotingClassifier(estimators = estimator, voting ='hard')\n",
    "vot_hard.fit(X_train, Y_train)\n",
    "\n",
    "print( f\"Hard Train score: {vot_hard.score(X_train, Y_train)} \" + f\"Hard Test score: {vot_hard.score(X_test, Y_test)}\")\n",
    "\n",
    "rfc = RandomForestClassifier(n_jobs=-1, criterion='gini', max_features= 'sqrt', n_estimators = 100, oob_score = True) \n",
    "rfc.fit(X_train, Y_train)\n",
    "print( f\"RFC Train score: {rfc.score(X_train, Y_train)} \" + f\"RFC Test score: {rfc.score(X_test, Y_test)}\")\n",
    "\n",
    "knn = KNeighborsClassifier(n_neighbors=5)\n",
    "knn.fit(X_train, Y_train)\n",
    "print( f\"KNN Train score: {knn.score(X_train, Y_train)} \" + f\"KNN Test score: {knn.score(X_test, Y_test)}\")\n",
    "\n",
    "\n",
    "# Plotting\n",
    "import matplotlib.pyplot as plt\n",
    "from sklearn.metrics import ConfusionMatrixDisplay\n",
    "\n",
    "if test_binary:\n",
    "    print(\"Hard Vote Confusion Matrix:\")\n",
    "    y_rf_predict = vot_hard.predict(X_test)\n",
    "    ConfusionMatrixDisplay.from_predictions(Y_test, y_rf_predict, cmap='cividis')\n",
    "    plt.show()\n",
    "\n",
    "    print(\"RF Confusion Matrix:\")\n",
    "    y_rf_predict = rfc.predict(X_test)\n",
    "    ConfusionMatrixDisplay.from_predictions(Y_test, y_rf_predict, cmap='cividis')\n",
    "    plt.show()\n",
    "\n",
    "    print(\"KNN Confusion Matrix:\")\n",
    "    y_rf_predict = knn.predict(X_test)\n",
    "    ConfusionMatrixDisplay.from_predictions(Y_test, y_rf_predict, cmap='cividis')\n",
    "    plt.show();\n",
    "\n",
    "else:\n",
    "\n",
    "    fig, ax = plt.subplots(3, figsize=(10,30))\n",
    "\n",
    "    ax[0].set_title(\"Hard Vote Confusion Matrix:\")\n",
    "    y_rf_predict = vot_hard.predict(X_test)\n",
    "    ConfusionMatrixDisplay.from_predictions(Y_test, y_rf_predict, cmap='cividis', xticks_rotation=-45.0, labels=labels, ax=ax[0])\n",
    "\n",
    "    ax[1].set_title(\"RF Confusion Matrix:\")\n",
    "    y_rf_predict = rfc.predict(X_test)\n",
    "    ConfusionMatrixDisplay.from_predictions(Y_test, y_rf_predict, cmap='cividis', xticks_rotation=-45.0, labels=labels, ax=ax[1])\n",
    "\n",
    "    ax[2].set_title(\"KNN Confusion Matrix:\")\n",
    "    y_rf_predict = knn.predict(X_test)\n",
    "    ConfusionMatrixDisplay.from_predictions(Y_test, y_rf_predict, cmap='cividis', xticks_rotation=-45.0, labels=labels, ax=ax[2])"
   ]
  }
 ],
 "metadata": {
  "interpreter": {
   "hash": "fc8fcea185759fcd4ced888c45e77e126815f619fce971cc6d778df862c8ecb1"
  },
  "kernelspec": {
   "display_name": "Python 3.8.10 64-bit ('base': conda)",
   "language": "python",
   "name": "python3"
  },
  "language_info": {
   "codemirror_mode": {
    "name": "ipython",
    "version": 3
   },
   "file_extension": ".py",
   "mimetype": "text/x-python",
   "name": "python",
   "nbconvert_exporter": "python",
   "pygments_lexer": "ipython3",
   "version": "3.8.10"
  },
  "orig_nbformat": 4
 },
 "nbformat": 4,
 "nbformat_minor": 2
}
