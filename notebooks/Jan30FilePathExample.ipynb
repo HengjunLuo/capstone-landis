{
 "cells": [
  {
   "cell_type": "markdown",
   "metadata": {},
   "source": [
    "### *This is an example to run top_secret.py in the notebook at the current notebooks folder"
   ]
  },
  {
   "cell_type": "markdown",
   "metadata": {},
   "source": [
    "#### *Run this cell to resolve import issues*"
   ]
  },
  {
   "cell_type": "code",
   "execution_count": 1,
   "metadata": {},
   "outputs": [],
   "source": [
    "import os\n",
    "import sys\n",
    "module_path = os.path.abspath(os.path.join('../src'))\n",
    "if module_path not in sys.path:\n",
    "    sys.path.append(module_path)"
   ]
  },
  {
   "cell_type": "code",
   "execution_count": 2,
   "metadata": {},
   "outputs": [
    {
     "name": "stdout",
     "output_type": "stream",
     "text": [
      "target:HENSOL\n",
      "Soft Train score: 0.9950773558368495 Soft Test score: 1.0\n",
      "Hard Train score: 0.960618846694796 Hard Test score: 1.0\n",
      "RFC Train score: 1.0 RFC Test score: 1.0\n",
      "MLP Train score: 0.9774964838255977 MLP Test score: 0.957983193277311\n",
      "KNN Train score: 0.9184247538677919 KNN Test score: 0.9915966386554622\n"
     ]
    }
   ],
   "source": [
    "from log_parser import parse_keyboard_log\n",
    "from log_parser import parse_mouse_log\n",
    "from keyboard_heatmap import KeyboardHeatmap\n",
    "from sklearn.ensemble import RandomForestClassifier\n",
    "from sklearn.neural_network import MLPClassifier\n",
    "from sklearn.neighbors import KNeighborsClassifier\n",
    "from sklearn.ensemble import VotingClassifier\n",
    "\n",
    "\n",
    "# List of parsed logfiles\n",
    "keyboard = []\n",
    "mouse = []\n",
    "\n",
    "# Read logfile paths from .routing\n",
    "with open(\"../.routing\", 'r', encoding='utf-8') as f:\n",
    "    log_paths = f.read().splitlines()   # Read lines without '\\n's\n",
    "    for path in log_paths:\n",
    "        if 'key.log' in path:\n",
    "            keyboard.append(parse_keyboard_log('../' + path))\n",
    "        elif 'mouse.log' in path:\n",
    "            mouse.append(parse_mouse_log('../' + path))\n",
    "\n",
    "# Split into train and test sets\n",
    "X_train = []\n",
    "X_test = []\n",
    "Y_train = []\n",
    "Y_test = []\n",
    "# 30 second segments fuggetaboutit\n",
    "train_seg_length = 30\n",
    "test_seg_length = 30\n",
    "# The quintessential target class\n",
    "target = \"HENSOL\"\n",
    "\n",
    "for k in range(len(keyboard) - 1):\n",
    "    for i in range(int(keyboard[k].time.iloc[-1] / train_seg_length)):\n",
    "        # For each segment in each logfile\n",
    "        # Create a heatmap for that segment\n",
    "        heatmap = KeyboardHeatmap(keyboard[k], i, train_seg_length)\n",
    "        heatmap = heatmap.to_binary_class_label(target)\n",
    "        # If the heatmap isn't blank\n",
    "        if heatmap.class_label() != 'Null':\n",
    "            X_train.append(heatmap.heatmap_data().ravel().tolist())\n",
    "            Y_train.append(heatmap.class_label())\n",
    "\n",
    "for k in range(len(keyboard) - 1,len(keyboard)):\n",
    "    for i in range(int(keyboard[k].time.iloc[-1] / test_seg_length)):\n",
    "        # For each segment in each logfile\n",
    "        # Create a heatmap for that segment\n",
    "        heatmap = KeyboardHeatmap(keyboard[k], i, test_seg_length)\n",
    "        heatmap = heatmap.to_binary_class_label(target)\n",
    "        # If the heatmap isn't blank\n",
    "        if heatmap.class_label() != 'Null':\n",
    "            X_test.append(heatmap.heatmap_data().ravel().tolist())\n",
    "            Y_test.append(heatmap.class_label())\n",
    "\n",
    "# ensemble of models\n",
    "estimator = []\n",
    "estimator.append(('RF', RandomForestClassifier(\n",
    "    n_jobs=-1, \n",
    "    criterion='gini',\n",
    "    max_features= 'sqrt',\n",
    "    n_estimators = 100, \n",
    "    oob_score = True)))\n",
    "estimator.append(('MLP', MLPClassifier(\n",
    "    hidden_layer_sizes=(100,100), \n",
    "    activation='relu', \n",
    "    solver='adam', \n",
    "    max_iter=10000)))\n",
    "estimator.append(('KNN', KNeighborsClassifier(\n",
    "    n_neighbors=5 # we dont talk about this number\n",
    "    )))\n",
    "\n",
    "print(\"target:\" + target)\n",
    "\n",
    "# Voting Classifier with soft voting\n",
    "vot_soft = VotingClassifier(estimators = estimator, voting ='soft')\n",
    "vot_soft.fit(X_train, Y_train)\n",
    "\n",
    "print( f\"Soft Train score: {vot_soft.score(X_train, Y_train)} \" + f\"Soft Test score: {vot_soft.score(X_test, Y_test)}\")\n",
    "\n",
    "# Voting Classifier with hard voting\n",
    "vot_hard = VotingClassifier(estimators = estimator, voting ='hard')\n",
    "vot_hard.fit(X_train, Y_train)\n",
    "\n",
    "print( f\"Hard Train score: {vot_hard.score(X_train, Y_train)} \" + f\"Hard Test score: {vot_hard.score(X_test, Y_test)}\")\n",
    "\n",
    "rfc = RandomForestClassifier(n_jobs=-1, criterion='gini', max_features= 'sqrt', n_estimators = 100, oob_score = True) \n",
    "rfc.fit(X_train, Y_train)\n",
    "print( f\"RFC Train score: {rfc.score(X_train, Y_train)} \" + f\"RFC Test score: {rfc.score(X_test, Y_test)}\")\n",
    "\n",
    "mlp = MLPClassifier(hidden_layer_sizes=(100,100), activation='relu', solver='adam', max_iter=10000)\n",
    "mlp.fit(X_train, Y_train)\n",
    "print( f\"MLP Train score: {mlp.score(X_train, Y_train)} \" + f\"MLP Test score: {mlp.score(X_test, Y_test)}\")\n",
    "\n",
    "knn = KNeighborsClassifier(n_neighbors=5)\n",
    "knn.fit(X_train, Y_train)\n",
    "print( f\"KNN Train score: {knn.score(X_train, Y_train)} \" + f\"KNN Test score: {knn.score(X_test, Y_test)}\")"
   ]
  }
 ],
 "metadata": {
  "interpreter": {
   "hash": "fc8fcea185759fcd4ced888c45e77e126815f619fce971cc6d778df862c8ecb1"
  },
  "kernelspec": {
   "display_name": "Python 3.8.10 64-bit ('base': conda)",
   "language": "python",
   "name": "python3"
  },
  "language_info": {
   "codemirror_mode": {
    "name": "ipython",
    "version": 3
   },
   "file_extension": ".py",
   "mimetype": "text/x-python",
   "name": "python",
   "nbconvert_exporter": "python",
   "pygments_lexer": "ipython3",
   "version": "3.8.10"
  },
  "orig_nbformat": 4
 },
 "nbformat": 4,
 "nbformat_minor": 2
}
