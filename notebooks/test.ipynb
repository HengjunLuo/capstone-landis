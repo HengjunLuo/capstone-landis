{
 "cells": [
  {
   "cell_type": "code",
   "execution_count": 7,
   "metadata": {},
   "outputs": [
    {
     "name": "stdout",
     "output_type": "stream",
     "text": [
      "c:\\Users\\hengj\\Dropbox\\My PC (LAPTOP-3RC4T7KN)\\Desktop\\500\\capstone-landis\\landis\\backend\n"
     ]
    }
   ],
   "source": [
    "import os\n",
    "import sys\n",
    "module_path = os.path.abspath(os.path.join('../landis/'))\n",
    "print(module_path)\n",
    "if module_path not in sys.path:\n",
    "    sys.path.append(module_path)"
   ]
  },
  {
   "cell_type": "code",
   "execution_count": 18,
   "metadata": {},
   "outputs": [
    {
     "name": "stdout",
     "output_type": "stream",
     "text": [
      "RFC Test score: 0.8666666666666667\n",
      "RF Confusion Matrix:\n"
     ]
    },
    {
     "data": {
      "image/png": "[encoded data removed]",
      "text/plain": [
       "<Figure size 432x288 with 2 Axes>"
      ]
     },
     "metadata": {
      "needs_background": "light"
     },
     "output_type": "display_data"
    }
   ],
   "source": [
    "import pickle\n",
    "\n",
    "from backend.log_parser import parse_keyboard_log\n",
    "from backend.log_parser import parse_mouse_log\n",
    "from backend.keyboard_heatmap import KeyboardHeatmap\n",
    "# This file sucks, dont use it\n",
    "\n",
    "# List of parsed logfiles\n",
    "keyboard = []\n",
    "mouse = []\n",
    "\n",
    "# Read logfile paths from .routing\n",
    "with open(\"../.routing\", 'r', encoding='utf-8') as f:\n",
    "    log_paths = f.read().splitlines()   # Read lines without '\\n's\n",
    "    for path in log_paths:\n",
    "        path = '../' + path\n",
    "        if 'key' in path:\n",
    "            keyboard.append(parse_keyboard_log(path))\n",
    "        elif 'mouse' in path:\n",
    "            mouse.append(parse_mouse_log(path))\n",
    "\n",
    "seg_length = 60\n",
    "\n",
    "# Empty lists for inserting data\n",
    "X_actual = []\n",
    "Y_actual = []\n",
    "\n",
    "# For confusion matrix plotting\n",
    "labels = []\n",
    "\n",
    "target = \"MIT\"\n",
    "\n",
    "for k in range(len(keyboard)):\n",
    "    l = None\n",
    "    for i in range(int(keyboard[k].time.iloc[-1] / seg_length)):\n",
    "        # For each segment in each logfile\n",
    "        # Create a heatmap for that segment\n",
    "        heatmap = KeyboardHeatmap(keyboard[k], i, seg_length)\n",
    "        if target!='NON': heatmap = heatmap.to_binary_class_label(target)\n",
    "        # If the heatmap isn't blank\n",
    "        if heatmap.class_label() != 'Null':\n",
    "            X_actual.append(heatmap.heatmap_data().ravel().tolist())\n",
    "            Y_actual.append(heatmap.class_label())\n",
    "\n",
    "        l = heatmap.class_label()\n",
    "    labels.append(l)\n",
    "labels = list( dict.fromkeys(labels)) # remove duplicate labels for non-binary classification\n",
    "\n",
    "ctype = \"RF\"\n",
    "\n",
    "with open('../classifiers/' + target + '/' + ctype + '.pkl', 'rb') as f:\n",
    "    classifier = pickle.load(f)\n",
    "\n",
    "print(f\"RFC Test score: {classifier.score(X_actual, Y_actual)}\")\n",
    "\n",
    "# Plotting\n",
    "import matplotlib.pyplot as plt\n",
    "from sklearn.metrics import ConfusionMatrixDisplay\n",
    "\n",
    "print(\"RF Confusion Matrix:\")\n",
    "y_rf_predict = classifier.predict(X_actual)\n",
    "ConfusionMatrixDisplay.from_predictions(Y_actual, y_rf_predict, cmap='cividis')\n",
    "plt.show()"
   ]
  }
 ],
 "metadata": {
  "interpreter": {
   "hash": "63fd5069d213b44bf678585dea6b12cceca9941eaf7f819626cde1f2670de90d"
  },
  "kernelspec": {
   "display_name": "Python 3.9.6 64-bit",
   "language": "python",
   "name": "python3"
  },
  "language_info": {
   "codemirror_mode": {
    "name": "ipython",
    "version": 3
   },
   "file_extension": ".py",
   "mimetype": "text/x-python",
   "name": "python",
   "nbconvert_exporter": "python",
   "pygments_lexer": "ipython3",
   "version": "3.9.6"
  },
  "orig_nbformat": 4
 },
 "nbformat": 4,
 "nbformat_minor": 2
}
