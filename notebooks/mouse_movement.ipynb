{
 "cells": [
  {
   "cell_type": "markdown",
   "metadata": {},
   "source": [
    "#### Imports"
   ]
  },
  {
   "cell_type": "code",
   "execution_count": 17,
   "metadata": {},
   "outputs": [],
   "source": [
    "import os\n",
    "import sys\n",
    "module_path = os.path.abspath(os.path.join('../src'))\n",
    "if module_path not in sys.path:\n",
    "    sys.path.append(module_path)\n",
    "\n",
    "import numpy as np\n",
    "import pandas as pd\n",
    "import matplotlib.pyplot as plt\n",
    "\n",
    "from collections import Counter\n",
    "\n",
    "import log_parser\n",
    "\n",
    "%matplotlib inline"
   ]
  },
  {
   "cell_type": "code",
   "execution_count": 40,
   "metadata": {},
   "outputs": [
    {
     "name": "stdout",
     "output_type": "stream",
     "text": [
      "HENSOL avg mouse x:y ratio = 1.83\n",
      "HENSNI avg mouse x:y ratio = 1.90\n",
      "HENDEM avg mouse x:y ratio = 1.76\n",
      "\n",
      "JONSOL avg mouse x:y ratio = 1.48\n",
      "JONPYR avg mouse x:y ratio = 1.58\n",
      "JONSPY avg mouse x:y ratio = 1.62\n",
      "\n",
      "HENSOL std mouse x:y ratio = 1.17\n",
      "HENSNI std mouse x:y ratio = 1.15\n",
      "HENDEM std mouse x:y ratio = 0.71\n",
      "\n",
      "JONSOL std mouse x:y ratio = 0.88\n",
      "JONPYR std mouse x:y ratio = 2.94\n",
      "JONSPY std mouse x:y ratio = 2.20\n",
      "\n",
      "\n"
     ]
    }
   ],
   "source": [
    "\n",
    "# Basically put every new piece of data into a bin and drop all other data\n",
    "# The compare historgrams of x and y\n",
    "\n",
    "bin_pixel_size = 10\n",
    "\n",
    "def mouse_movement(dataframe, seg_length):\n",
    "    \n",
    "    mouse_x, mouse_y = [], []\n",
    "\n",
    "    # Get last segment of seg_length\n",
    "    t = dataframe.iloc[-1].time\n",
    "    dataframe = dataframe[dataframe.time > (t - seg_length)]\n",
    "    \n",
    "    for i, row in dataframe.iterrows():\n",
    "        x, y = row.x, row.y\n",
    "        mouse_x.append(x // bin_pixel_size)\n",
    "        mouse_y.append(y // bin_pixel_size)\n",
    "\n",
    "    mouse_x = np.array(mouse_x)\n",
    "    mouse_y = np.array(mouse_y)\n",
    "    \n",
    "    avg_x = mouse_x.mean()\n",
    "    avg_y = mouse_y.mean()\n",
    "\n",
    "    std_x = mouse_x.std()\n",
    "    std_y = mouse_y.std()\n",
    "\n",
    "    avg_ratio = avg_x / avg_y\n",
    "    std_ratio = std_x / std_y\n",
    "\n",
    "    return (avg_ratio, std_ratio)\n",
    "\n",
    "\n",
    "hensol_avg, hensol_std = mouse_movement(log_parser.parse_mouse_log(\"../logs/HEN/SOL/mouse.log\"), 60)\n",
    "hensni_avg, hensni_std = mouse_movement(log_parser.parse_mouse_log(\"../logs/HEN/SNI/mouse.log\"), 60)\n",
    "hendem_avg, hendem_std = mouse_movement(log_parser.parse_mouse_log(\"../logs/HEN/DEM/mouse.log\"), 60)\n",
    "jonsol_avg, jonsol_std = mouse_movement(log_parser.parse_mouse_log(\"../logs/JON/SOL/mouse.log\"), 60)\n",
    "jonpyr_avg, jonpyr_std = mouse_movement(log_parser.parse_mouse_log(\"../logs/JON/PYR/mouse.log\"), 60)\n",
    "jonspy_avg, jonspy_std = mouse_movement(log_parser.parse_mouse_log(\"../logs/JON/SPY/mouse.log\"), 60)\n",
    "\n",
    "print(\n",
    "    f\"HENSOL avg mouse x:y ratio = {hensol_avg:.2f}\\n\"\n",
    "    f\"HENSNI avg mouse x:y ratio = {hensni_avg:.2f}\\n\"\n",
    "    f\"HENDEM avg mouse x:y ratio = {hendem_avg:.2f}\\n\\n\"\n",
    "\n",
    "    f\"JONSOL avg mouse x:y ratio = {jonsol_avg:.2f}\\n\"\n",
    "    f\"JONPYR avg mouse x:y ratio = {jonpyr_avg:.2f}\\n\"\n",
    "    f\"JONSPY avg mouse x:y ratio = {jonspy_avg:.2f}\\n\\n\"\n",
    "    \n",
    "    f\"HENSOL std mouse x:y ratio = {hensol_std:.2f}\\n\"\n",
    "    f\"HENSNI std mouse x:y ratio = {hensni_std:.2f}\\n\"\n",
    "    f\"HENDEM std mouse x:y ratio = {hendem_std:.2f}\\n\\n\"\n",
    "\n",
    "    f\"JONSOL std mouse x:y ratio = {jonsol_std:.2f}\\n\"\n",
    "    f\"JONPYR std mouse x:y ratio = {jonpyr_std:.2f}\\n\"\n",
    "    f\"JONSPY std mouse x:y ratio = {jonspy_std:.2f}\\n\\n\"\n",
    ")\n"
   ]
  },
  {
   "cell_type": "code",
   "execution_count": null,
   "metadata": {},
   "outputs": [],
   "source": []
  }
 ],
 "metadata": {
  "interpreter": {
   "hash": "fc8fcea185759fcd4ced888c45e77e126815f619fce971cc6d778df862c8ecb1"
  },
  "kernelspec": {
   "display_name": "Python 3.8.10 ('base')",
   "language": "python",
   "name": "python3"
  },
  "language_info": {
   "codemirror_mode": {
    "name": "ipython",
    "version": 3
   },
   "file_extension": ".py",
   "mimetype": "text/x-python",
   "name": "python",
   "nbconvert_exporter": "python",
   "pygments_lexer": "ipython3",
   "version": "3.8.10"
  },
  "orig_nbformat": 4
 },
 "nbformat": 4,
 "nbformat_minor": 2
}
