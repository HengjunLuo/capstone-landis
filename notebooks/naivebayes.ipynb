{
 "cells": [
  {
   "cell_type": "markdown",
   "metadata": {},
   "source": [
    "### Run this to resolve import errors"
   ]
  },
  {
   "cell_type": "code",
   "execution_count": 1,
   "metadata": {},
   "outputs": [],
   "source": [
    "import os\n",
    "import sys\n",
    "module_path = os.path.abspath(os.path.join('../src'))\n",
    "if module_path not in sys.path:\n",
    "    sys.path.append(module_path)"
   ]
  },
  {
   "cell_type": "code",
   "execution_count": 2,
   "metadata": {},
   "outputs": [
    {
     "name": "stdout",
     "output_type": "stream",
     "text": [
      "Train samples: 424\n",
      "Test samples: 35\n"
     ]
    }
   ],
   "source": [
    "from log_parser import parse_keyboard_log\n",
    "from log_parser import parse_mouse_log\n",
    "from keyboard_heatmap import KeyboardHeatmap\n",
    "\n",
    "# Segment length of each data sample\n",
    "seg_length = 100\n",
    "\n",
    "routing_file = open('../.routing', 'r')\n",
    "Lines = routing_file.readlines()\n",
    "\n",
    "# List of parsed logfiles\n",
    "keyboard = []\n",
    "mouse = []\n",
    "\n",
    "for line in Lines:\n",
    "    line = line.strip()\n",
    "    if 'key.log' in line:\n",
    "        keyboard.append(parse_keyboard_log('../' + line))\n",
    "    elif 'mouse.log' in line:\n",
    "        mouse.append(parse_mouse_log('../' + line))\n",
    "\n",
    "# Split into train and test sets\n",
    "X_train = []\n",
    "X_test = []\n",
    "Y_train = []\n",
    "Y_test = []\n",
    "\n",
    "target = \"MITSOL\"\n",
    "\n",
    "for k in range(len(keyboard) - 1):\n",
    "    for i in range(int(keyboard[k].time.iloc[-1] / seg_length)):\n",
    "        # For each segment in each logfile\n",
    "        # Create a heatmap for that segment\n",
    "        heatmap = KeyboardHeatmap(keyboard[k], i, seg_length)\n",
    "        heatmap = heatmap.to_binary_class_label(target)\n",
    "        # If the heatmap isn't blank\n",
    "        if heatmap.class_label() != 'Null':\n",
    "            X_train.append(heatmap.heatmap_data().ravel().tolist())\n",
    "            Y_train.append(heatmap.class_label())\n",
    "\n",
    "for k in range(len(keyboard) - 1,len(keyboard)):\n",
    "    for i in range(int(keyboard[k].time.iloc[-1] / seg_length)):\n",
    "        # For each segment in each logfile\n",
    "        # Create a heatmap for that segment\n",
    "        heatmap = KeyboardHeatmap(keyboard[k], i, seg_length)\n",
    "        heatmap = heatmap.to_binary_class_label(target)\n",
    "        # If the heatmap isn't blank\n",
    "        if heatmap.class_label() != 'Null':\n",
    "            X_test.append(heatmap.heatmap_data().ravel().tolist())\n",
    "            Y_test.append(heatmap.class_label())\n",
    "\n",
    "print(f\"Train samples: {len(Y_train)}\")\n",
    "print(f\"Test samples: {len(Y_test)}\")"
   ]
  },
  {
   "cell_type": "code",
   "execution_count": 3,
   "metadata": {},
   "outputs": [
    {
     "name": "stdout",
     "output_type": "stream",
     "text": [
      "Train score: 0.5943396226415094 Test score: 0.08571428571428572\n",
      "Result on Training data\n",
      "[[216 172]\n",
      " [  0  36]]\n",
      "              precision    recall  f1-score   support\n",
      "\n",
      "           0       1.00      0.56      0.72       388\n",
      "           1       0.17      1.00      0.30        36\n",
      "\n",
      "    accuracy                           0.59       424\n",
      "   macro avg       0.59      0.78      0.51       424\n",
      "weighted avg       0.93      0.59      0.68       424\n",
      "\n",
      "Result on Test data\n",
      "[[ 3 32]\n",
      " [ 0  0]]\n",
      "              precision    recall  f1-score   support\n",
      "\n",
      "           0       1.00      0.09      0.16        35\n",
      "           1       0.00      0.00      0.00         0\n",
      "\n",
      "    accuracy                           0.09        35\n",
      "   macro avg       0.50      0.04      0.08        35\n",
      "weighted avg       1.00      0.09      0.16        35\n",
      "\n"
     ]
    },
    {
     "name": "stderr",
     "output_type": "stream",
     "text": [
      "C:\\Users\\josep\\miniconda3\\lib\\site-packages\\sklearn\\metrics\\_classification.py:1248: UndefinedMetricWarning: Recall and F-score are ill-defined and being set to 0.0 in labels with no true samples. Use `zero_division` parameter to control this behavior.\n",
      "  _warn_prf(average, modifier, msg_start, len(result))\n",
      "C:\\Users\\josep\\miniconda3\\lib\\site-packages\\sklearn\\metrics\\_classification.py:1248: UndefinedMetricWarning: Recall and F-score are ill-defined and being set to 0.0 in labels with no true samples. Use `zero_division` parameter to control this behavior.\n",
      "  _warn_prf(average, modifier, msg_start, len(result))\n",
      "C:\\Users\\josep\\miniconda3\\lib\\site-packages\\sklearn\\metrics\\_classification.py:1248: UndefinedMetricWarning: Recall and F-score are ill-defined and being set to 0.0 in labels with no true samples. Use `zero_division` parameter to control this behavior.\n",
      "  _warn_prf(average, modifier, msg_start, len(result))\n"
     ]
    }
   ],
   "source": [
    "import sklearn\n",
    "import numpy as np\n",
    "from sklearn.datasets import load_iris\n",
    "from sklearn.model_selection import train_test_split\n",
    "from sklearn.naive_bayes import GaussianNB\n",
    "\n",
    "#This model using Gaussian Naive-Bayes\n",
    "\n",
    "NBG = GaussianNB()\n",
    "model = NBG.fit(X_train,Y_train)\n",
    "#model = NBG.partial_fit(X_train,Y_train,np.unique(Y_train))\n",
    "\n",
    "predict_train = NBG.predict(X_train)\n",
    "predict_test = NBG.predict(X_test)\n",
    "\n",
    "print( f\"Train score: {NBG.score(X_train, Y_train)} \" + f\"Test score: {NBG.score(X_test, Y_test)}\")\n",
    "\n",
    "#Show model prediction and evaluation\n",
    "from sklearn.metrics import classification_report,confusion_matrix\n",
    "print(\"Result on Training data\")\n",
    "print(confusion_matrix(Y_train,predict_train))\n",
    "print(classification_report(Y_train,predict_train))\n",
    "print(\"Result on Test data\")\n",
    "print(confusion_matrix(Y_test,predict_test))\n",
    "print(classification_report(Y_test,predict_test))\n"
   ]
  },
  {
   "cell_type": "code",
   "execution_count": 4,
   "metadata": {},
   "outputs": [
    {
     "name": "stdout",
     "output_type": "stream",
     "text": [
      "Train score: 0.9150943396226415 Test score: 1.0\n",
      "Result on Training data\n",
      "[[388   0]\n",
      " [ 36   0]]\n",
      "              precision    recall  f1-score   support\n",
      "\n",
      "           0       0.92      1.00      0.96       388\n",
      "           1       0.00      0.00      0.00        36\n",
      "\n",
      "    accuracy                           0.92       424\n",
      "   macro avg       0.46      0.50      0.48       424\n",
      "weighted avg       0.84      0.92      0.87       424\n",
      "\n",
      "Result on Test data\n",
      "[[35]]\n",
      "              precision    recall  f1-score   support\n",
      "\n",
      "           0       1.00      1.00      1.00        35\n",
      "\n",
      "    accuracy                           1.00        35\n",
      "   macro avg       1.00      1.00      1.00        35\n",
      "weighted avg       1.00      1.00      1.00        35\n",
      "\n"
     ]
    },
    {
     "name": "stderr",
     "output_type": "stream",
     "text": [
      "C:\\Users\\josep\\miniconda3\\lib\\site-packages\\sklearn\\metrics\\_classification.py:1248: UndefinedMetricWarning: Precision and F-score are ill-defined and being set to 0.0 in labels with no predicted samples. Use `zero_division` parameter to control this behavior.\n",
      "  _warn_prf(average, modifier, msg_start, len(result))\n",
      "C:\\Users\\josep\\miniconda3\\lib\\site-packages\\sklearn\\metrics\\_classification.py:1248: UndefinedMetricWarning: Precision and F-score are ill-defined and being set to 0.0 in labels with no predicted samples. Use `zero_division` parameter to control this behavior.\n",
      "  _warn_prf(average, modifier, msg_start, len(result))\n",
      "C:\\Users\\josep\\miniconda3\\lib\\site-packages\\sklearn\\metrics\\_classification.py:1248: UndefinedMetricWarning: Precision and F-score are ill-defined and being set to 0.0 in labels with no predicted samples. Use `zero_division` parameter to control this behavior.\n",
      "  _warn_prf(average, modifier, msg_start, len(result))\n"
     ]
    }
   ],
   "source": [
    "#Invalid model - data isn't discrete\n",
    "\n",
    "import sklearn\n",
    "from sklearn.datasets import load_iris\n",
    "from sklearn.model_selection import train_test_split\n",
    "from sklearn.naive_bayes import MultinomialNB\n",
    "\n",
    "#This model using Multinomial Naive-Bayes\n",
    "\n",
    "NBM = MultinomialNB()\n",
    "model = NBM.fit(X_train,Y_train)\n",
    "\n",
    "predict_train = NBM.predict(X_train)\n",
    "predict_test = NBM.predict(X_test)\n",
    "\n",
    "print( f\"Train score: {NBM.score(X_train, Y_train)} \" + f\"Test score: {NBM.score(X_test, Y_test)}\")\n",
    "\n",
    "#Show model prediction and evaluation\n",
    "from sklearn.metrics import classification_report,confusion_matrix\n",
    "print(\"Result on Training data\")\n",
    "print(confusion_matrix(Y_train,predict_train))\n",
    "print(classification_report(Y_train,predict_train))\n",
    "print(\"Result on Test data\")\n",
    "print(confusion_matrix(Y_test,predict_test))\n",
    "print(classification_report(Y_test,predict_test))\n",
    "\n"
   ]
  },
  {
   "cell_type": "code",
   "execution_count": 5,
   "metadata": {},
   "outputs": [
    {
     "name": "stdout",
     "output_type": "stream",
     "text": [
      "Train score: 0.8183962264150944 Test score: 0.3142857142857143\n",
      "Result on Training data\n",
      "[[319  69]\n",
      " [  8  28]]\n",
      "              precision    recall  f1-score   support\n",
      "\n",
      "           0       0.98      0.82      0.89       388\n",
      "           1       0.29      0.78      0.42        36\n",
      "\n",
      "    accuracy                           0.82       424\n",
      "   macro avg       0.63      0.80      0.66       424\n",
      "weighted avg       0.92      0.82      0.85       424\n",
      "\n",
      "Result on Test data\n",
      "[[11 24]\n",
      " [ 0  0]]\n",
      "              precision    recall  f1-score   support\n",
      "\n",
      "           0       1.00      0.31      0.48        35\n",
      "           1       0.00      0.00      0.00         0\n",
      "\n",
      "    accuracy                           0.31        35\n",
      "   macro avg       0.50      0.16      0.24        35\n",
      "weighted avg       1.00      0.31      0.48        35\n",
      "\n"
     ]
    },
    {
     "name": "stderr",
     "output_type": "stream",
     "text": [
      "C:\\Users\\josep\\miniconda3\\lib\\site-packages\\sklearn\\metrics\\_classification.py:1248: UndefinedMetricWarning: Recall and F-score are ill-defined and being set to 0.0 in labels with no true samples. Use `zero_division` parameter to control this behavior.\n",
      "  _warn_prf(average, modifier, msg_start, len(result))\n",
      "C:\\Users\\josep\\miniconda3\\lib\\site-packages\\sklearn\\metrics\\_classification.py:1248: UndefinedMetricWarning: Recall and F-score are ill-defined and being set to 0.0 in labels with no true samples. Use `zero_division` parameter to control this behavior.\n",
      "  _warn_prf(average, modifier, msg_start, len(result))\n",
      "C:\\Users\\josep\\miniconda3\\lib\\site-packages\\sklearn\\metrics\\_classification.py:1248: UndefinedMetricWarning: Recall and F-score are ill-defined and being set to 0.0 in labels with no true samples. Use `zero_division` parameter to control this behavior.\n",
      "  _warn_prf(average, modifier, msg_start, len(result))\n"
     ]
    }
   ],
   "source": [
    "import sklearn\n",
    "from sklearn.datasets import load_iris\n",
    "from sklearn.model_selection import train_test_split\n",
    "from sklearn.naive_bayes import ComplementNB\n",
    "\n",
    "#This model using Complement Naive-Bayes\n",
    "\n",
    "NBC = ComplementNB()\n",
    "model = NBC.fit(X_train,Y_train)\n",
    "\n",
    "predict_train = NBC.predict(X_train)\n",
    "predict_test = NBC.predict(X_test)\n",
    "\n",
    "print( f\"Train score: {NBC.score(X_train, Y_train)} \" + f\"Test score: {NBC.score(X_test, Y_test)}\")\n",
    "\n",
    "#Show model prediction and evaluation\n",
    "from sklearn.metrics import classification_report,confusion_matrix\n",
    "print(\"Result on Training data\")\n",
    "print(confusion_matrix(Y_train,predict_train))\n",
    "print(classification_report(Y_train,predict_train))\n",
    "print(\"Result on Test data\")\n",
    "print(confusion_matrix(Y_test,predict_test))\n",
    "print(classification_report(Y_test,predict_test))\n"
   ]
  },
  {
   "cell_type": "code",
   "execution_count": 6,
   "metadata": {},
   "outputs": [
    {
     "name": "stdout",
     "output_type": "stream",
     "text": [
      "Train score: 0.9150943396226415 Test score: 1.0\n",
      "Result on Training data\n",
      "[[388   0]\n",
      " [ 36   0]]\n",
      "              precision    recall  f1-score   support\n",
      "\n",
      "           0       0.92      1.00      0.96       388\n",
      "           1       0.00      0.00      0.00        36\n",
      "\n",
      "    accuracy                           0.92       424\n",
      "   macro avg       0.46      0.50      0.48       424\n",
      "weighted avg       0.84      0.92      0.87       424\n",
      "\n",
      "Result on Test data\n",
      "[[35]]\n",
      "              precision    recall  f1-score   support\n",
      "\n",
      "           0       1.00      1.00      1.00        35\n",
      "\n",
      "    accuracy                           1.00        35\n",
      "   macro avg       1.00      1.00      1.00        35\n",
      "weighted avg       1.00      1.00      1.00        35\n",
      "\n"
     ]
    },
    {
     "name": "stderr",
     "output_type": "stream",
     "text": [
      "C:\\Users\\josep\\miniconda3\\lib\\site-packages\\sklearn\\metrics\\_classification.py:1248: UndefinedMetricWarning: Precision and F-score are ill-defined and being set to 0.0 in labels with no predicted samples. Use `zero_division` parameter to control this behavior.\n",
      "  _warn_prf(average, modifier, msg_start, len(result))\n",
      "C:\\Users\\josep\\miniconda3\\lib\\site-packages\\sklearn\\metrics\\_classification.py:1248: UndefinedMetricWarning: Precision and F-score are ill-defined and being set to 0.0 in labels with no predicted samples. Use `zero_division` parameter to control this behavior.\n",
      "  _warn_prf(average, modifier, msg_start, len(result))\n",
      "C:\\Users\\josep\\miniconda3\\lib\\site-packages\\sklearn\\metrics\\_classification.py:1248: UndefinedMetricWarning: Precision and F-score are ill-defined and being set to 0.0 in labels with no predicted samples. Use `zero_division` parameter to control this behavior.\n",
      "  _warn_prf(average, modifier, msg_start, len(result))\n"
     ]
    }
   ],
   "source": [
    "#Invalid model - data isn't discrete\n",
    "\n",
    "import sklearn\n",
    "from sklearn.datasets import load_iris\n",
    "from sklearn.model_selection import train_test_split\n",
    "from sklearn.naive_bayes import CategoricalNB\n",
    "\n",
    "#This model using Categorical Naive-Bayes\n",
    "\n",
    "NBCat = CategoricalNB()\n",
    "model = NBCat.fit(X_train,Y_train)\n",
    "\n",
    "predict_train = NBCat.predict(X_train)\n",
    "predict_test = NBCat.predict(X_test)\n",
    "\n",
    "print( f\"Train score: {NBCat.score(X_train, Y_train)} \" + f\"Test score: {NBCat.score(X_test, Y_test)}\")\n",
    "\n",
    "#Show model prediction and evaluation\n",
    "from sklearn.metrics import classification_report,confusion_matrix\n",
    "print(\"Result on Training data\")\n",
    "print(confusion_matrix(Y_train,predict_train))\n",
    "print(classification_report(Y_train,predict_train))\n",
    "print(\"Result on Test data\")\n",
    "print(confusion_matrix(Y_test,predict_test))\n",
    "print(classification_report(Y_test,predict_test))\n"
   ]
  }
 ],
 "metadata": {
  "interpreter": {
   "hash": "cce35d24d994a1f178b502831d9a715da539764ffa646ecb5cb67e5111c94f52"
  },
  "kernelspec": {
   "display_name": "Python 3.10.2 64-bit",
   "language": "python",
   "name": "python3"
  },
  "language_info": {
   "codemirror_mode": {
    "name": "ipython",
    "version": 3
   },
   "file_extension": ".py",
   "mimetype": "text/x-python",
   "name": "python",
   "nbconvert_exporter": "python",
   "pygments_lexer": "ipython3",
   "version": "3.8.10"
  },
  "orig_nbformat": 4
 },
 "nbformat": 4,
 "nbformat_minor": 2
}
