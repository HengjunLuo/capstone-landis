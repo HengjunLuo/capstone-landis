{
 "cells": [
  {
   "cell_type": "markdown",
   "id": "37993e26",
   "metadata": {},
   "source": [
    "## Parsing data from keyboard log file\n",
    "\n",
    "1. Import log_parser module\n",
    "2. Call parse_keyboard_log(filepath), filepath = path to log file\n",
    "3. Store result in a variable (type: Pandas DataFrame)\n",
    "\n",
    "#### Retrieving a certain time interval from parsed data\n",
    "\n",
    "1. Call get_segment(parsedData, index, seg_length) <br/>\n",
    "    parsedData = data returned from parse_keyboard_log() <br/>\n",
    "    index = which data segment to retrieve (of seg_length) <br/>\n",
    "    seg_length = length of segment (time interval in seconds, default 60s) <br/>\n",
    "2. Store result in a variable (type: Pandas DataFrame)"
   ]
  },
  {
   "cell_type": "code",
   "execution_count": 18,
   "id": "036a73ae",
   "metadata": {},
   "outputs": [
    {
     "name": "stdout",
     "output_type": "stream",
     "text": [
      "       time  key    action class\n",
      "24  10.2886  'a'   pressed   NaN\n",
      "25  10.3386  'w'  released   NaN\n",
      "26  10.6385  'a'  released   NaN\n",
      "27  10.6586  'w'   pressed   NaN\n",
      "28  10.9488  'd'   pressed   NaN\n",
      "..      ...  ...       ...   ...\n",
      "85  18.4384  'a'   pressed   NaN\n",
      "86  18.8788  'a'  released   NaN\n",
      "87  19.3184  'a'   pressed   NaN\n",
      "88  19.5289  'a'  released   NaN\n",
      "89  19.8684  'd'   pressed   NaN\n",
      "\n",
      "[66 rows x 4 columns]\n"
     ]
    }
   ],
   "source": [
    "import log_parser\n",
    "\n",
    "keyboard_data = log_parser.parse_keyboard_log(\"keyboard_actions_jon_spy_nov8.log\")\n",
    "#print(keyboard_data)\n",
    "\n",
    "# Get 5th 30s segment from data\n",
    "keyboard_data_segment = log_parser.get_segment(keyboard_data, index=2, seg_length=10)\n",
    "print(keyboard_data_segment)"
   ]
  },
  {
   "cell_type": "markdown",
   "id": "ce23c363",
   "metadata": {},
   "source": [
    "## Parsing data from mouse log file\n",
    "\n",
    "1. Import log_parser module\n",
    "2. Call parse_mouse_log(filepath), filepath = path to log file\n",
    "3. Store result in a variable (type: Pandas DataFrame)\n",
    "\n",
    "#### Retrieving a certain time interval from parsed data\n",
    "\n",
    "1. Call get_segment(parsedData, index, seg_length) <br/>\n",
    "    parsedData = data returned from parse_keyboard_log() <br/>\n",
    "    index = which data segment to retrieve (of seg_length) <br/>\n",
    "    seg_length = length of segment (time interval in seconds, default 60s) <br/>\n",
    "2. Store result in a variable (type: Pandas DataFrame)"
   ]
  },
  {
   "cell_type": "code",
   "execution_count": 2,
   "id": "9bdd3700",
   "metadata": {},
   "outputs": [
    {
     "name": "stdout",
     "output_type": "stream",
     "text": [
      "             time     x    y button   action  class\n",
      "0          1.3364   943  515   None     None    NaN\n",
      "1          1.4306   947  514   None     None    NaN\n",
      "2          1.6931   948  514   None     None    NaN\n",
      "3          1.6951   949  514   None     None    NaN\n",
      "4          1.6962   950  514   None     None    NaN\n",
      "...           ...   ...  ...    ...      ...    ...\n",
      "354768  1303.4239  1170  515   None     None    NaN\n",
      "354769  1303.4299  1171  515   None     None    NaN\n",
      "354770  1303.4409  1172  515   None     None    NaN\n",
      "354771  1303.4418  1172  514   None     None    NaN\n",
      "354772  1304.4521  1172  514   left  pressed    NaN\n",
      "\n",
      "[354773 rows x 6 columns]\n",
      "           time    x    y button action  class\n",
      "40265  120.0009  638  387   None   None    NaN\n",
      "40266  120.0018  637  387   None   None    NaN\n",
      "40267  120.0039  637  387   None   None    NaN\n",
      "40268  120.0049  636  387   None   None    NaN\n",
      "40269  120.0079  636  388   None   None    NaN\n",
      "...         ...  ...  ...    ...    ...    ...\n",
      "50038  149.9961  261  455   None   None    NaN\n",
      "50039  149.9969  633  384   None   None    NaN\n",
      "50040  149.9979  628  384   None   None    NaN\n",
      "50041  149.9989  622  384   None   None    NaN\n",
      "50042  149.9998  617  384   None   None    NaN\n",
      "\n",
      "[9778 rows x 6 columns]\n"
     ]
    }
   ],
   "source": [
    "import log_parser\n",
    "\n",
    "mouse_data = log_parser.parse_mouse_log(\"mouse_actions.log\")\n",
    "print(mouse_data)\n",
    "\n",
    "# Get 5th 30s segment from data\n",
    "mouse_data_segment = log_parser.get_segment(mouse_data, index=5, seg_length=30)\n",
    "print(mouse_data_segment)"
   ]
  },
  {
   "cell_type": "markdown",
   "id": "ed71f5ed",
   "metadata": {},
   "source": [
    "### Example usage of MouseHeatmap"
   ]
  },
  {
   "cell_type": "code",
   "execution_count": 12,
   "id": "286a296d",
   "metadata": {},
   "outputs": [
    {
     "data": {
      "image/png": "[encoded data removed]",
      "text/plain": [
       "<Figure size 540x540 with 1 Axes>"
      ]
     },
     "metadata": {},
     "output_type": "display_data"
    }
   ],
   "source": [
    "# Import log parser and mouse heatmap modules\n",
    "import log_parser\n",
    "import mouse_heatmap\n",
    "\n",
    "# Generate the dataframe from log file\n",
    "mouse_data = log_parser.parse_mouse_log(\"mouse_actions.log\")\n",
    "\n",
    "# Retrieve the 4th minute from the dataframe\n",
    "# MouseHeatmap module has a function for this\n",
    "mouse_data_segment = log_parser.get_segment(mouse_data, 4, seg_length=60)\n",
    "\n",
    "# Use that segment to create the heatmap object\n",
    "heatmap = mouse_heatmap.MouseHeatmap(mouse_data_segment)\n",
    "\n",
    "# Show the segment as a 150x150 heatmap\n",
    "heatmap.show_heatmap((150, 150))"
   ]
  },
  {
   "cell_type": "markdown",
   "id": "bcf3abfc",
   "metadata": {},
   "source": [
    "## Example usage of keyboard_heatmap"
   ]
  },
  {
   "cell_type": "code",
   "execution_count": 1,
   "id": "dcd7d394",
   "metadata": {},
   "outputs": [
    {
     "ename": "FileNotFoundError",
     "evalue": "[Errno 2] No such file or directory: 'keyboard_actions_jon_spy_nov8.log'",
     "output_type": "error",
     "traceback": [
      "\u001b[1;31m---------------------------------------------------------------------------\u001b[0m",
      "\u001b[1;31mFileNotFoundError\u001b[0m                         Traceback (most recent call last)",
      "\u001b[1;32m~\\AppData\\Local\\Temp/ipykernel_27444/2461168734.py\u001b[0m in \u001b[0;36m<module>\u001b[1;34m\u001b[0m\n\u001b[0;32m      6\u001b[0m \u001b[1;33m\u001b[0m\u001b[0m\n\u001b[0;32m      7\u001b[0m \u001b[1;31m# Getting the data from  parsed input keyboard log file\u001b[0m\u001b[1;33m\u001b[0m\u001b[1;33m\u001b[0m\u001b[1;33m\u001b[0m\u001b[0m\n\u001b[1;32m----> 8\u001b[1;33m \u001b[0mkeyboard_data_Jon\u001b[0m \u001b[1;33m=\u001b[0m \u001b[0mlog_parser\u001b[0m\u001b[1;33m.\u001b[0m\u001b[0mparse_keyboard_log\u001b[0m\u001b[1;33m(\u001b[0m\u001b[1;34m\"keyboard_actions_jon_spy_nov8.log\"\u001b[0m\u001b[1;33m)\u001b[0m\u001b[1;33m\u001b[0m\u001b[1;33m\u001b[0m\u001b[0m\n\u001b[0m\u001b[0;32m      9\u001b[0m \u001b[0mkeyboard_data_segment_Jon\u001b[0m \u001b[1;33m=\u001b[0m \u001b[0mlog_parser\u001b[0m\u001b[1;33m.\u001b[0m\u001b[0mget_segment\u001b[0m\u001b[1;33m(\u001b[0m\u001b[0mkeyboard_data_Jon\u001b[0m\u001b[1;33m,\u001b[0m \u001b[0mindex\u001b[0m\u001b[1;33m=\u001b[0m\u001b[1;36m1\u001b[0m\u001b[1;33m,\u001b[0m \u001b[0mseg_length\u001b[0m\u001b[1;33m=\u001b[0m\u001b[1;36m500\u001b[0m\u001b[1;33m)\u001b[0m\u001b[1;33m\u001b[0m\u001b[1;33m\u001b[0m\u001b[0m\n\u001b[0;32m     10\u001b[0m \u001b[0mheatmap_Jon\u001b[0m \u001b[1;33m=\u001b[0m \u001b[0mkeyboard_heatmap\u001b[0m\u001b[1;33m.\u001b[0m\u001b[0mkeyboardHeatmap\u001b[0m\u001b[1;33m(\u001b[0m\u001b[0mkeyboard_data_segment_Jon\u001b[0m\u001b[1;33m)\u001b[0m\u001b[1;33m\u001b[0m\u001b[1;33m\u001b[0m\u001b[0m\n",
      "\u001b[1;32mc:\\Users\\josep\\Documents\\School\\ENEL500\\repo\\capstone-landis\\log_parser.py\u001b[0m in \u001b[0;36mparse_keyboard_log\u001b[1;34m(filepath)\u001b[0m\n\u001b[0;32m      7\u001b[0m \"\"\"\n\u001b[0;32m      8\u001b[0m \u001b[1;32mdef\u001b[0m \u001b[0mparse_keyboard_log\u001b[0m\u001b[1;33m(\u001b[0m\u001b[0mfilepath\u001b[0m\u001b[1;33m)\u001b[0m\u001b[1;33m:\u001b[0m\u001b[1;33m\u001b[0m\u001b[1;33m\u001b[0m\u001b[0m\n\u001b[1;32m----> 9\u001b[1;33m     \u001b[1;32mreturn\u001b[0m \u001b[0mpd\u001b[0m\u001b[1;33m.\u001b[0m\u001b[0mread_csv\u001b[0m\u001b[1;33m(\u001b[0m\u001b[0mfilepath\u001b[0m\u001b[1;33m,\u001b[0m \u001b[0mnames\u001b[0m\u001b[1;33m=\u001b[0m\u001b[1;33m[\u001b[0m\u001b[1;34m'time'\u001b[0m\u001b[1;33m,\u001b[0m \u001b[1;34m'key'\u001b[0m\u001b[1;33m,\u001b[0m \u001b[1;34m'action'\u001b[0m\u001b[1;33m,\u001b[0m \u001b[1;34m'class'\u001b[0m\u001b[1;33m]\u001b[0m\u001b[1;33m)\u001b[0m\u001b[1;33m\u001b[0m\u001b[1;33m\u001b[0m\u001b[0m\n\u001b[0m\u001b[0;32m     10\u001b[0m \u001b[1;33m\u001b[0m\u001b[0m\n\u001b[0;32m     11\u001b[0m \"\"\"\n",
      "\u001b[1;32m~\\miniconda3\\lib\\site-packages\\pandas\\util\\_decorators.py\u001b[0m in \u001b[0;36mwrapper\u001b[1;34m(*args, **kwargs)\u001b[0m\n\u001b[0;32m    309\u001b[0m                     \u001b[0mstacklevel\u001b[0m\u001b[1;33m=\u001b[0m\u001b[0mstacklevel\u001b[0m\u001b[1;33m,\u001b[0m\u001b[1;33m\u001b[0m\u001b[1;33m\u001b[0m\u001b[0m\n\u001b[0;32m    310\u001b[0m                 )\n\u001b[1;32m--> 311\u001b[1;33m             \u001b[1;32mreturn\u001b[0m \u001b[0mfunc\u001b[0m\u001b[1;33m(\u001b[0m\u001b[1;33m*\u001b[0m\u001b[0margs\u001b[0m\u001b[1;33m,\u001b[0m \u001b[1;33m**\u001b[0m\u001b[0mkwargs\u001b[0m\u001b[1;33m)\u001b[0m\u001b[1;33m\u001b[0m\u001b[1;33m\u001b[0m\u001b[0m\n\u001b[0m\u001b[0;32m    312\u001b[0m \u001b[1;33m\u001b[0m\u001b[0m\n\u001b[0;32m    313\u001b[0m         \u001b[1;32mreturn\u001b[0m \u001b[0mwrapper\u001b[0m\u001b[1;33m\u001b[0m\u001b[1;33m\u001b[0m\u001b[0m\n",
      "\u001b[1;32m~\\miniconda3\\lib\\site-packages\\pandas\\io\\parsers\\readers.py\u001b[0m in \u001b[0;36mread_csv\u001b[1;34m(filepath_or_buffer, sep, delimiter, header, names, index_col, usecols, squeeze, prefix, mangle_dupe_cols, dtype, engine, converters, true_values, false_values, skipinitialspace, skiprows, skipfooter, nrows, na_values, keep_default_na, na_filter, verbose, skip_blank_lines, parse_dates, infer_datetime_format, keep_date_col, date_parser, dayfirst, cache_dates, iterator, chunksize, compression, thousands, decimal, lineterminator, quotechar, quoting, doublequote, escapechar, comment, encoding, encoding_errors, dialect, error_bad_lines, warn_bad_lines, on_bad_lines, delim_whitespace, low_memory, memory_map, float_precision, storage_options)\u001b[0m\n\u001b[0;32m    584\u001b[0m     \u001b[0mkwds\u001b[0m\u001b[1;33m.\u001b[0m\u001b[0mupdate\u001b[0m\u001b[1;33m(\u001b[0m\u001b[0mkwds_defaults\u001b[0m\u001b[1;33m)\u001b[0m\u001b[1;33m\u001b[0m\u001b[1;33m\u001b[0m\u001b[0m\n\u001b[0;32m    585\u001b[0m \u001b[1;33m\u001b[0m\u001b[0m\n\u001b[1;32m--> 586\u001b[1;33m     \u001b[1;32mreturn\u001b[0m \u001b[0m_read\u001b[0m\u001b[1;33m(\u001b[0m\u001b[0mfilepath_or_buffer\u001b[0m\u001b[1;33m,\u001b[0m \u001b[0mkwds\u001b[0m\u001b[1;33m)\u001b[0m\u001b[1;33m\u001b[0m\u001b[1;33m\u001b[0m\u001b[0m\n\u001b[0m\u001b[0;32m    587\u001b[0m \u001b[1;33m\u001b[0m\u001b[0m\n\u001b[0;32m    588\u001b[0m \u001b[1;33m\u001b[0m\u001b[0m\n",
      "\u001b[1;32m~\\miniconda3\\lib\\site-packages\\pandas\\io\\parsers\\readers.py\u001b[0m in \u001b[0;36m_read\u001b[1;34m(filepath_or_buffer, kwds)\u001b[0m\n\u001b[0;32m    480\u001b[0m \u001b[1;33m\u001b[0m\u001b[0m\n\u001b[0;32m    481\u001b[0m     \u001b[1;31m# Create the parser.\u001b[0m\u001b[1;33m\u001b[0m\u001b[1;33m\u001b[0m\u001b[1;33m\u001b[0m\u001b[0m\n\u001b[1;32m--> 482\u001b[1;33m     \u001b[0mparser\u001b[0m \u001b[1;33m=\u001b[0m \u001b[0mTextFileReader\u001b[0m\u001b[1;33m(\u001b[0m\u001b[0mfilepath_or_buffer\u001b[0m\u001b[1;33m,\u001b[0m \u001b[1;33m**\u001b[0m\u001b[0mkwds\u001b[0m\u001b[1;33m)\u001b[0m\u001b[1;33m\u001b[0m\u001b[1;33m\u001b[0m\u001b[0m\n\u001b[0m\u001b[0;32m    483\u001b[0m \u001b[1;33m\u001b[0m\u001b[0m\n\u001b[0;32m    484\u001b[0m     \u001b[1;32mif\u001b[0m \u001b[0mchunksize\u001b[0m \u001b[1;32mor\u001b[0m \u001b[0miterator\u001b[0m\u001b[1;33m:\u001b[0m\u001b[1;33m\u001b[0m\u001b[1;33m\u001b[0m\u001b[0m\n",
      "\u001b[1;32m~\\miniconda3\\lib\\site-packages\\pandas\\io\\parsers\\readers.py\u001b[0m in \u001b[0;36m__init__\u001b[1;34m(self, f, engine, **kwds)\u001b[0m\n\u001b[0;32m    809\u001b[0m             \u001b[0mself\u001b[0m\u001b[1;33m.\u001b[0m\u001b[0moptions\u001b[0m\u001b[1;33m[\u001b[0m\u001b[1;34m\"has_index_names\"\u001b[0m\u001b[1;33m]\u001b[0m \u001b[1;33m=\u001b[0m \u001b[0mkwds\u001b[0m\u001b[1;33m[\u001b[0m\u001b[1;34m\"has_index_names\"\u001b[0m\u001b[1;33m]\u001b[0m\u001b[1;33m\u001b[0m\u001b[1;33m\u001b[0m\u001b[0m\n\u001b[0;32m    810\u001b[0m \u001b[1;33m\u001b[0m\u001b[0m\n\u001b[1;32m--> 811\u001b[1;33m         \u001b[0mself\u001b[0m\u001b[1;33m.\u001b[0m\u001b[0m_engine\u001b[0m \u001b[1;33m=\u001b[0m \u001b[0mself\u001b[0m\u001b[1;33m.\u001b[0m\u001b[0m_make_engine\u001b[0m\u001b[1;33m(\u001b[0m\u001b[0mself\u001b[0m\u001b[1;33m.\u001b[0m\u001b[0mengine\u001b[0m\u001b[1;33m)\u001b[0m\u001b[1;33m\u001b[0m\u001b[1;33m\u001b[0m\u001b[0m\n\u001b[0m\u001b[0;32m    812\u001b[0m \u001b[1;33m\u001b[0m\u001b[0m\n\u001b[0;32m    813\u001b[0m     \u001b[1;32mdef\u001b[0m \u001b[0mclose\u001b[0m\u001b[1;33m(\u001b[0m\u001b[0mself\u001b[0m\u001b[1;33m)\u001b[0m\u001b[1;33m:\u001b[0m\u001b[1;33m\u001b[0m\u001b[1;33m\u001b[0m\u001b[0m\n",
      "\u001b[1;32m~\\miniconda3\\lib\\site-packages\\pandas\\io\\parsers\\readers.py\u001b[0m in \u001b[0;36m_make_engine\u001b[1;34m(self, engine)\u001b[0m\n\u001b[0;32m   1038\u001b[0m             )\n\u001b[0;32m   1039\u001b[0m         \u001b[1;31m# error: Too many arguments for \"ParserBase\"\u001b[0m\u001b[1;33m\u001b[0m\u001b[1;33m\u001b[0m\u001b[1;33m\u001b[0m\u001b[0m\n\u001b[1;32m-> 1040\u001b[1;33m         \u001b[1;32mreturn\u001b[0m \u001b[0mmapping\u001b[0m\u001b[1;33m[\u001b[0m\u001b[0mengine\u001b[0m\u001b[1;33m]\u001b[0m\u001b[1;33m(\u001b[0m\u001b[0mself\u001b[0m\u001b[1;33m.\u001b[0m\u001b[0mf\u001b[0m\u001b[1;33m,\u001b[0m \u001b[1;33m**\u001b[0m\u001b[0mself\u001b[0m\u001b[1;33m.\u001b[0m\u001b[0moptions\u001b[0m\u001b[1;33m)\u001b[0m  \u001b[1;31m# type: ignore[call-arg]\u001b[0m\u001b[1;33m\u001b[0m\u001b[1;33m\u001b[0m\u001b[0m\n\u001b[0m\u001b[0;32m   1041\u001b[0m \u001b[1;33m\u001b[0m\u001b[0m\n\u001b[0;32m   1042\u001b[0m     \u001b[1;32mdef\u001b[0m \u001b[0m_failover_to_python\u001b[0m\u001b[1;33m(\u001b[0m\u001b[0mself\u001b[0m\u001b[1;33m)\u001b[0m\u001b[1;33m:\u001b[0m\u001b[1;33m\u001b[0m\u001b[1;33m\u001b[0m\u001b[0m\n",
      "\u001b[1;32m~\\miniconda3\\lib\\site-packages\\pandas\\io\\parsers\\c_parser_wrapper.py\u001b[0m in \u001b[0;36m__init__\u001b[1;34m(self, src, **kwds)\u001b[0m\n\u001b[0;32m     49\u001b[0m \u001b[1;33m\u001b[0m\u001b[0m\n\u001b[0;32m     50\u001b[0m         \u001b[1;31m# open handles\u001b[0m\u001b[1;33m\u001b[0m\u001b[1;33m\u001b[0m\u001b[1;33m\u001b[0m\u001b[0m\n\u001b[1;32m---> 51\u001b[1;33m         \u001b[0mself\u001b[0m\u001b[1;33m.\u001b[0m\u001b[0m_open_handles\u001b[0m\u001b[1;33m(\u001b[0m\u001b[0msrc\u001b[0m\u001b[1;33m,\u001b[0m \u001b[0mkwds\u001b[0m\u001b[1;33m)\u001b[0m\u001b[1;33m\u001b[0m\u001b[1;33m\u001b[0m\u001b[0m\n\u001b[0m\u001b[0;32m     52\u001b[0m         \u001b[1;32massert\u001b[0m \u001b[0mself\u001b[0m\u001b[1;33m.\u001b[0m\u001b[0mhandles\u001b[0m \u001b[1;32mis\u001b[0m \u001b[1;32mnot\u001b[0m \u001b[1;32mNone\u001b[0m\u001b[1;33m\u001b[0m\u001b[1;33m\u001b[0m\u001b[0m\n\u001b[0;32m     53\u001b[0m \u001b[1;33m\u001b[0m\u001b[0m\n",
      "\u001b[1;32m~\\miniconda3\\lib\\site-packages\\pandas\\io\\parsers\\base_parser.py\u001b[0m in \u001b[0;36m_open_handles\u001b[1;34m(self, src, kwds)\u001b[0m\n\u001b[0;32m    220\u001b[0m         \u001b[0mLet\u001b[0m \u001b[0mthe\u001b[0m \u001b[0mreaders\u001b[0m \u001b[0mopen\u001b[0m \u001b[0mIOHandles\u001b[0m \u001b[0mafter\u001b[0m \u001b[0mthey\u001b[0m \u001b[0mare\u001b[0m \u001b[0mdone\u001b[0m \u001b[1;32mwith\u001b[0m \u001b[0mtheir\u001b[0m \u001b[0mpotential\u001b[0m \u001b[0mraises\u001b[0m\u001b[1;33m.\u001b[0m\u001b[1;33m\u001b[0m\u001b[1;33m\u001b[0m\u001b[0m\n\u001b[0;32m    221\u001b[0m         \"\"\"\n\u001b[1;32m--> 222\u001b[1;33m         self.handles = get_handle(\n\u001b[0m\u001b[0;32m    223\u001b[0m             \u001b[0msrc\u001b[0m\u001b[1;33m,\u001b[0m\u001b[1;33m\u001b[0m\u001b[1;33m\u001b[0m\u001b[0m\n\u001b[0;32m    224\u001b[0m             \u001b[1;34m\"r\"\u001b[0m\u001b[1;33m,\u001b[0m\u001b[1;33m\u001b[0m\u001b[1;33m\u001b[0m\u001b[0m\n",
      "\u001b[1;32m~\\miniconda3\\lib\\site-packages\\pandas\\io\\common.py\u001b[0m in \u001b[0;36mget_handle\u001b[1;34m(path_or_buf, mode, encoding, compression, memory_map, is_text, errors, storage_options)\u001b[0m\n\u001b[0;32m    700\u001b[0m         \u001b[1;32mif\u001b[0m \u001b[0mioargs\u001b[0m\u001b[1;33m.\u001b[0m\u001b[0mencoding\u001b[0m \u001b[1;32mand\u001b[0m \u001b[1;34m\"b\"\u001b[0m \u001b[1;32mnot\u001b[0m \u001b[1;32min\u001b[0m \u001b[0mioargs\u001b[0m\u001b[1;33m.\u001b[0m\u001b[0mmode\u001b[0m\u001b[1;33m:\u001b[0m\u001b[1;33m\u001b[0m\u001b[1;33m\u001b[0m\u001b[0m\n\u001b[0;32m    701\u001b[0m             \u001b[1;31m# Encoding\u001b[0m\u001b[1;33m\u001b[0m\u001b[1;33m\u001b[0m\u001b[1;33m\u001b[0m\u001b[0m\n\u001b[1;32m--> 702\u001b[1;33m             handle = open(\n\u001b[0m\u001b[0;32m    703\u001b[0m                 \u001b[0mhandle\u001b[0m\u001b[1;33m,\u001b[0m\u001b[1;33m\u001b[0m\u001b[1;33m\u001b[0m\u001b[0m\n\u001b[0;32m    704\u001b[0m                 \u001b[0mioargs\u001b[0m\u001b[1;33m.\u001b[0m\u001b[0mmode\u001b[0m\u001b[1;33m,\u001b[0m\u001b[1;33m\u001b[0m\u001b[1;33m\u001b[0m\u001b[0m\n",
      "\u001b[1;31mFileNotFoundError\u001b[0m: [Errno 2] No such file or directory: 'keyboard_actions_jon_spy_nov8.log'"
     ]
    }
   ],
   "source": [
    "# Import keyboard_heatmap module\n",
    "import keyboard_heatmap\n",
    "import log_parser\n",
    "import numpy as np\n",
    "import pandas as pd\n",
    "\n",
    "# Getting the data from  parsed input keyboard log file\n",
    "keyboard_data_Jon = log_parser.parse_keyboard_log(\"keyboard_actions_jon_spy_nov8.log\")\n",
    "keyboard_data_segment_Jon = log_parser.get_segment(keyboard_data_Jon, index=1, seg_length=500)\n",
    "heatmap_Jon = keyboard_heatmap.keyboardHeatmap(keyboard_data_segment_Jon)\n",
    "\n",
    "keyboard_data_Zirui = log_parser.parse_keyboard_log(\"Zirui_Keyboard.log\")\n",
    "keyboard_data_segment_Zirui = log_parser.get_segment(keyboard_data_Zirui, index=1, seg_length=500)\n",
    "heatmap_Zirui = keyboard_heatmap.keyboardHeatmap(keyboard_data_segment_Zirui)\n",
    "# Need to calculate max vlaue for color bar before showing heatmap\n",
    "heatmaps = []\n",
    "heatmaps.append(heatmap_Jon)\n",
    "heatmaps.append(heatmap_Zirui)\n",
    "for item in heatmaps:\n",
    "    maxF = float(np.max(item.keyboard_df.freq))\n",
    "    maxD = float(np.max(item.keyboard_df.avg_duration))\n",
    "    if maxF > keyboard_heatmap.keyboardHeatmap.maxFreq:\n",
    "        keyboard_heatmap.keyboardHeatmap.maxFreq = maxF\n",
    "    if maxD > keyboard_heatmap.keyboardHeatmap.maxDura:\n",
    "        keyboard_heatmap.keyboardHeatmap.maxDura = maxD\n",
    "keyboard_heatmap.keyboardHeatmap.show_heatmap(heatmap_Jon)\n",
    "keyboard_heatmap.keyboardHeatmap.show_heatmap(heatmap_Zirui)"
   ]
  }
 ],
 "metadata": {
  "kernelspec": {
   "display_name": "Python 3 (ipykernel)",
   "language": "python",
   "name": "python3"
  },
  "language_info": {
   "codemirror_mode": {
    "name": "ipython",
    "version": 3
   },
   "file_extension": ".py",
   "mimetype": "text/x-python",
   "name": "python",
   "nbconvert_exporter": "python",
   "pygments_lexer": "ipython3",
   "version": "3.8.10"
  }
 },
 "nbformat": 4,
 "nbformat_minor": 5
}
