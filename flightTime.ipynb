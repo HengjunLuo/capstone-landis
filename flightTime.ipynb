{
 "cells": [
  {
   "cell_type": "code",
   "execution_count": 10,
   "metadata": {},
   "outputs": [
    {
     "name": "stdout",
     "output_type": "stream",
     "text": [
      "  key  avg_duration  longestDuration  shortestDuration   class\n",
      "0  sw      0.217970           0.4889            0.0791  ZIRSOL\n",
      "1  ws      0.225805           0.4921            0.0841  ZIRSOL\n"
     ]
    }
   ],
   "source": [
    "from log_parser import parse_keyboard_log\n",
    "from log_parser import extract_predefined_patterns\n",
    "from log_parser import parse_mouse_log\n",
    "from keyboard_heatmap import KeyboardHeatmap\n",
    "dataframe = parse_keyboard_log(\"logs/ZIR/SOL/key.log\")\n",
    "keyboard_df = extract_predefined_patterns(dataframe, 0, 10000)\n",
    "print(keyboard_df)"
   ]
  },
  {
   "cell_type": "code",
   "execution_count": 11,
   "metadata": {},
   "outputs": [
    {
     "name": "stdout",
     "output_type": "stream",
     "text": [
      "  key  avg_duration  longestDuration  shortestDuration   class\n",
      "0  sw      0.217360           0.4956            0.0107  HENSOL\n",
      "1  ws      0.167071           0.4891            0.0533  HENSOL\n"
     ]
    }
   ],
   "source": [
    "dataframe = parse_keyboard_log(\"logs/HEN/SOL/key.log\")\n",
    "keyboard_df = extract_predefined_patterns(dataframe, 0, 10000)\n",
    "print(keyboard_df)"
   ]
  },
  {
   "cell_type": "code",
   "execution_count": 12,
   "metadata": {},
   "outputs": [
    {
     "name": "stdout",
     "output_type": "stream",
     "text": [
      "  key  avg_duration  longestDuration  shortestDuration   class\n",
      "0  sw      0.252010           0.4698            0.1083  ZIRSNI\n",
      "1  ws      0.227545           0.4940            0.0937  ZIRSNI\n",
      "2  fd      0.289800           0.2898            0.2898  ZIRSNI\n",
      "3  df      0.334000           0.3340            0.3340  ZIRSNI\n"
     ]
    }
   ],
   "source": [
    "dataframe = parse_keyboard_log(\"logs/ZIR/SNI/key.log\")\n",
    "keyboard_df = extract_predefined_patterns(dataframe, 0, 10000)\n",
    "print(keyboard_df)"
   ]
  },
  {
   "cell_type": "code",
   "execution_count": 13,
   "metadata": {},
   "outputs": [
    {
     "name": "stdout",
     "output_type": "stream",
     "text": [
      "  key  avg_duration  longestDuration  shortestDuration   class\n",
      "0  ws      0.199919           0.4987            0.0618  HENSNI\n",
      "1  sw      0.251046           0.4976            0.0700  HENSNI\n",
      "2  df      0.050600           0.0506            0.0506  HENSNI\n"
     ]
    }
   ],
   "source": [
    "dataframe = parse_keyboard_log(\"logs/HEN/SNI/key.log\")\n",
    "keyboard_df = extract_predefined_patterns(dataframe, 0, 10000)\n",
    "print(keyboard_df)"
   ]
  }
 ],
 "metadata": {
  "interpreter": {
   "hash": "63fd5069d213b44bf678585dea6b12cceca9941eaf7f819626cde1f2670de90d"
  },
  "kernelspec": {
   "display_name": "Python 3.9.6 64-bit",
   "language": "python",
   "name": "python3"
  },
  "language_info": {
   "codemirror_mode": {
    "name": "ipython",
    "version": 3
   },
   "file_extension": ".py",
   "mimetype": "text/x-python",
   "name": "python",
   "nbconvert_exporter": "python",
   "pygments_lexer": "ipython3",
   "version": "3.9.6"
  },
  "orig_nbformat": 4
 },
 "nbformat": 4,
 "nbformat_minor": 2
}
