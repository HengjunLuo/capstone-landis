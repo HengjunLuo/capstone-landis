{
 "cells": [
  {
   "cell_type": "code",
   "execution_count": 1,
   "metadata": {},
   "outputs": [
    {
     "name": "stdout",
     "output_type": "stream",
     "text": [
      "  key  avg_duration  longestDuration  shortestDuration   class\n",
      "0  sw      0.180105           0.2962            0.0791  ZIRSOL\n",
      "1  ws      0.185755           0.2999            0.0841  ZIRSOL\n"
     ]
    }
   ],
   "source": [
    "from log_parser import parse_keyboard_log\n",
    "from log_parser import extract_predefined_patterns\n",
    "from log_parser import parse_mouse_log\n",
    "from keyboard_heatmap import KeyboardHeatmap\n",
    "dataframe = parse_keyboard_log(\"logs/ZIR/SOL/key.log\")\n",
    "keyboard_df = extract_predefined_patterns(dataframe, 0, 10000)\n",
    "print(keyboard_df)"
   ]
  },
  {
   "cell_type": "code",
   "execution_count": 2,
   "metadata": {},
   "outputs": [
    {
     "name": "stdout",
     "output_type": "stream",
     "text": [
      "  key  avg_duration  longestDuration  shortestDuration   class\n",
      "0  sw      0.150597           0.2927            0.0107  HENSOL\n",
      "1  ws      0.137060           0.2952            0.0533  HENSOL\n",
      "2  w2      0.125550           0.2164            0.0738  HENSOL\n",
      "3  2w      0.120033           0.2236            0.0558  HENSOL\n"
     ]
    }
   ],
   "source": [
    "dataframe = parse_keyboard_log(\"logs/HEN/SOL/key.log\")\n",
    "keyboard_df = extract_predefined_patterns(dataframe, 0, 10000)\n",
    "print(keyboard_df)"
   ]
  },
  {
   "cell_type": "code",
   "execution_count": 3,
   "metadata": {},
   "outputs": [
    {
     "name": "stdout",
     "output_type": "stream",
     "text": [
      "  key  avg_duration  longestDuration  shortestDuration   class\n",
      "0  sw      0.199189           0.2960            0.1083  ZIRSNI\n",
      "1  ws      0.184428           0.2948            0.0937  ZIRSNI\n",
      "2  fd      0.289800           0.2898            0.2898  ZIRSNI\n"
     ]
    }
   ],
   "source": [
    "dataframe = parse_keyboard_log(\"logs/ZIR/SNI/key.log\")\n",
    "keyboard_df = extract_predefined_patterns(dataframe, 0, 10000)\n",
    "print(keyboard_df)"
   ]
  },
  {
   "cell_type": "code",
   "execution_count": 4,
   "metadata": {},
   "outputs": [
    {
     "name": "stdout",
     "output_type": "stream",
     "text": [
      "  key  avg_duration  longestDuration  shortestDuration   class\n",
      "0  ws      0.143767           0.2920            0.0618  HENSNI\n",
      "1  sw      0.174726           0.2950            0.0700  HENSNI\n",
      "2  w2      0.109270           0.1654            0.0614  HENSNI\n",
      "3  2w      0.178333           0.2938            0.0857  HENSNI\n",
      "4  df      0.050600           0.0506            0.0506  HENSNI\n"
     ]
    }
   ],
   "source": [
    "dataframe = parse_keyboard_log(\"logs/HEN/SNI/key.log\")\n",
    "keyboard_df = extract_predefined_patterns(dataframe, 0, 10000)\n",
    "print(keyboard_df)"
   ]
  }
 ],
 "metadata": {
  "interpreter": {
   "hash": "63fd5069d213b44bf678585dea6b12cceca9941eaf7f819626cde1f2670de90d"
  },
  "kernelspec": {
   "display_name": "Python 3.9.6 64-bit",
   "language": "python",
   "name": "python3"
  },
  "language_info": {
   "codemirror_mode": {
    "name": "ipython",
    "version": 3
   },
   "file_extension": ".py",
   "mimetype": "text/x-python",
   "name": "python",
   "nbconvert_exporter": "python",
   "pygments_lexer": "ipython3",
   "version": "3.9.6"
  },
  "orig_nbformat": 4
 },
 "nbformat": 4,
 "nbformat_minor": 2
}
