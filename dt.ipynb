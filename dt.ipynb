{
 "cells": [
  {
   "cell_type": "code",
   "execution_count": 2,
   "metadata": {},
   "outputs": [],
   "source": [
    "# Import keyboard_heatmap module\n",
    "import keyboard_heatmap\n",
    "import log_parser\n",
    "import numpy as np\n",
    "import pandas as pd\n",
    "\n",
    "# Getting the data from  parsed input keyboard log file\n",
    "keyboard_data_Jon = log_parser.parse_keyboard_log(\"keyboard_actions.log\")\n",
    "keyboard_data_segment_Jon = log_parser.get_segment(keyboard_data_Jon, index=1, seg_length=600)\n",
    "heatmap_Jon = keyboard_heatmap.keyboardHeatmap(keyboard_data_segment_Jon)\n"
   ]
  }
 ],
 "metadata": {
  "interpreter": {
   "hash": "fc8fcea185759fcd4ced888c45e77e126815f619fce971cc6d778df862c8ecb1"
  },
  "kernelspec": {
   "display_name": "Python 3.8.10 64-bit ('base': conda)",
   "language": "python",
   "name": "python3"
  },
  "language_info": {
   "codemirror_mode": {
    "name": "ipython",
    "version": 3
   },
   "file_extension": ".py",
   "mimetype": "text/x-python",
   "name": "python",
   "nbconvert_exporter": "python",
   "pygments_lexer": "ipython3",
   "version": "3.10.0"
  },
  "orig_nbformat": 4
 },
 "nbformat": 4,
 "nbformat_minor": 2
}
