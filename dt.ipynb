{
 "cells": [
  {
   "cell_type": "code",
   "execution_count": 41,
   "metadata": {},
   "outputs": [
    {
     "name": "stdout",
     "output_type": "stream",
     "text": [
      "[0.067, 0.133, 0.0, 0.2, 0.067, 0.0, 0.0, 11.752, 0.316, 0.0] Joseph\n",
      "[0.367, 0.2, 0.367, 0.1, 0.367, 0.0, 0.0, 1.844, 0.997, 0.269] Joseph\n",
      "[0.267, 0.267, 0.033, 0.3, 0.133, 0.0, 0.0, 1.816, 1.426, 0.864] Joseph\n",
      "[0.333, 0.333, 0.233, 0.433, 0.0, 0.0, 0.0, 0.688, 0.41, 0.377] Joseph\n",
      "[0.367, 0.4, 0.133, 0.433, 0.0, 0.0, 0.0, 1.38, 0.43, 0.596] Joseph\n",
      "[0.367, 0.567, 0.233, 0.3, 0.0, 0.0, 0.0, 1.012, 0.567, 0.969] Joseph\n",
      "[0.633, 0.533, 0.2, 0.567, 0.0, 0.0, 0.0, 0.92, 0.624, 0.384] Joseph\n",
      "[0.333, 0.433, 0.2, 0.5, 0.033, 0.0, 0.0, 1.04, 0.763, 0.725] Joseph\n",
      "[0.367, 0.367, 0.1, 0.4, 0.1, 0.0, 0.0, 1.616, 0.416, 0.555] Joseph\n",
      "[0.5, 0.4, 0.133, 0.433, 0.0, 0.0, 0.0, 0.704, 0.864, 1.224] Joseph\n",
      "[0.333, 0.5, 0.067, 0.333, 0.033, 0.0, 0.0, 0.832, 0.526, 1.4] Joseph\n",
      "[0.0, 0.033, 0.0, 0.033, 0.0, 0.0, 0.0, 0.0, 0.272, 0.0] Joseph\n",
      "[0.1, 0.167, 0.0, 0.267, 0.033, 0.0, 0.0, 4.96, 0.336, 0.0] Joseph\n",
      "[0.233, 0.367, 0.033, 0.3, 0.1, 0.0, 0.0, 2.917, 0.88, 0.512] Joseph\n",
      "[0.133, 0.267, 0.067, 0.167, 0.0, 0.0, 0.0, 0.32, 0.322, 0.272] Joseph\n",
      "[0.167, 0.1, 0.0, 0.033, 0.0, 0.0, 0.0, 0.323, 0.309, 0.0] Joseph\n",
      "[0.367, 0.133, 0.133, 0.133, 0.0, 0.0, 0.0, 0.611, 0.848, 0.536] Joseph\n",
      "[0.233, 0.367, 0.067, 0.2, 0.067, 0.0, 0.0, 0.997, 1.222, 1.632] Joseph\n",
      "[0.4, 0.5, 0.2, 0.433, 0.0, 0.0, 0.0, 0.449, 0.256, 0.651] Joseph\n",
      "[0.533, 0.5, 0.233, 0.3, 0.0, 0.0, 0.0, 0.769, 0.584, 0.729] Joseph\n",
      "[0.2, 0.167, 0.167, 0.367, 0.0, 0.0, 0.0, 1.989, 0.259, 0.598] Joseph\n",
      "[0.333, 0.533, 0.133, 0.3, 0.0, 0.0, 0.0, 1.904, 0.512, 1.268] Joseph\n",
      "[0.233, 0.367, 0.133, 0.233, 0.0, 0.0, 0.0, 1.262, 0.266, 0.512] Joseph\n",
      "[0.3, 0.333, 0.167, 0.4, 0.0, 0.0, 0.0, 2.02, 0.536, 0.701] Joseph\n",
      "[0.3, 0.733, 0.167, 0.433, 0.2, 0.0, 0.0, 1.244, 0.6, 0.835] Joseph\n",
      "[0.133, 0.133, 0.0, 0.233, 0.0, 0.0, 0.0, 1.76, 1.312, 0.0] Joseph\n",
      "[0.1, 0.333, 0.033, 0.167, 0.0, 0.0, 0.0, 3.242, 0.896, 0.176] Joseph\n",
      "[0.367, 0.233, 0.067, 0.3, 0.067, 0.0, 0.0, 1.708, 0.34, 0.8] Joseph\n",
      "[0.2, 0.5, 0.167, 0.267, 0.067, 0.0, 0.0, 1.451, 0.622, 1.421] Joseph\n",
      "[0.2, 0.267, 0.1, 0.567, 0.0, 0.0, 0.0, 2.869, 0.49, 0.917] Joseph\n",
      "[0.2, 0.367, 0.067, 0.2, 0.033, 0.0, 0.0, 1.968, 1.084, 2.088] Joseph\n",
      "[0.133, 0.3, 0.2, 0.2, 0.0, 0.0, 0.0, 1.68, 1.285, 1.458] Joseph\n",
      "[0.133, 0.267, 0.2, 0.4, 0.6, 0.0, 0.0, 3.817, 0.379, 1.158] JONSOL\n",
      "[0.2, 0.467, 0.067, 0.433, 0.233, 0.0, 0.0, 3.307, 0.482, 0.515] JONSOL\n",
      "[0.0, 0.067, 0.0, 0.0, 0.067, 0.0, 0.0, 0.0, 0.66, 0.0] JONSOL\n",
      "[0.1, 0.433, 0.1, 0.233, 0.433, 0.0, 0.0, 1.523, 0.452, 1.533] JONSOL\n",
      "[0.133, 0.267, 0.167, 0.167, 0.1, 0.0, 0.0, 3.627, 0.869, 0.872] JONSOL\n",
      "[0.267, 0.033, 0.233, 0.133, 0.467, 0.0, 0.0, 0.481, 0.2, 0.862] JONSOL\n",
      "[0.1, 0.0, 0.0, 0.0, 0.033, 0.0, 0.0, 1.763, 0.0, 0.0] JONSOL\n",
      "[0.2, 0.267, 0.233, 0.333, 0.1, 0.0, 0.0, 2.014, 0.768, 0.83] JONSOL\n",
      "[0.133, 0.2, 0.133, 0.233, 0.1, 0.0, 0.0, 2.057, 0.315, 0.45] JONSOL\n",
      "[0.367, 0.6, 0.3, 0.733, 0.0, 0.0, 0.0, 0.226, 0.397, 0.295] JONSOL\n",
      "[0.167, 0.3, 0.1, 0.4, 0.033, 0.0, 0.0, 1.512, 0.737, 1.123] JONSOL\n",
      "[0.067, 0.333, 0.0, 0.1, 0.033, 0.0, 0.0, 5.665, 0.373, 0.0] JONSOL\n",
      "[0.467, 0.667, 0.2, 0.7, 0.1, 0.0, 0.0, 1.092, 0.463, 0.882] JONSOL\n",
      "[0.067, 0.133, 0.0, 0.133, 0.167, 0.0, 0.0, 5.195, 0.478, 0.0] JONSOL\n",
      "[0.267, 0.433, 0.133, 0.4, 0.567, 0.0, 0.0, 1.697, 0.871, 1.973] JONSOL\n",
      "[0.1, 0.3, 0.067, 0.333, 0.033, 0.0, 0.0, 4.74, 0.485, 0.99] JONSOL\n",
      "[0.2, 0.267, 0.1, 0.2, 0.6, 0.0, 0.0, 2.688, 0.675, 0.9] JONSOL\n",
      "[0.0, 0.2, 0.067, 0.0, 0.133, 0.0, 0.0, 0.0, 0.467, 3.25] JONSOL\n",
      "Data samples: 50\n"
     ]
    }
   ],
   "source": [
    "import numpy as np\n",
    "import pandas as pd\n",
    "from log_parser import parse_keyboard_log\n",
    "from keyboard_heatmap import KeyboardHeatmap\n",
    "\n",
    "# Segment length of each data sample\n",
    "seg_length = 30\n",
    "\n",
    "# List of parsed logfiles\n",
    "keyboard = []\n",
    "keyboard.append(parse_keyboard_log(\"keylogs/joseph/keyboard.log\"))\n",
    "keyboard.append(parse_keyboard_log(\"keylogs/jonathan/keyboard.log\"))\n",
    "\n",
    "# Hack to get the number of segments contained in each file\n",
    "lengths = [\n",
    "    keyboard[0].time.iloc[-1] / seg_length,\n",
    "    keyboard[1].time.iloc[-1] / seg_length,\n",
    "]\n",
    "\n",
    "# Empty lists for inserting data\n",
    "X_actual = []\n",
    "Y_actual = []\n",
    "\n",
    "for k in range(len(keyboard)):\n",
    "    for i in range(int(lengths[k])):\n",
    "        # For each segment in each logfile\n",
    "        # Create a heatmap for that segment\n",
    "        heatmap = KeyboardHeatmap(keyboard[k], i, seg_length)\n",
    "        # If the heatmap isn't blank\n",
    "        if heatmap.class_label() != 'Null':\n",
    "            X_actual.append(heatmap.heatmap_data().ravel().tolist())\n",
    "            Y_actual.append(heatmap.class_label())\n",
    "\n",
    "# Display features\n",
    "for i in range(len(X_actual)):\n",
    "    print(X_actual[i][:10], Y_actual[i])\n",
    "print(f\"Data samples: {len(Y_actual)}\")\n"
   ]
  },
  {
   "cell_type": "code",
   "execution_count": 42,
   "metadata": {},
   "outputs": [
    {
     "name": "stdout",
     "output_type": "stream",
     "text": [
      "Train score: 1.0 Test score: 0.9230769230769231\n",
      "Actual: Joseph      -  Predicted: Joseph\n",
      "Actual: Joseph      -  Predicted: Joseph\n",
      "Actual: Joseph      -  Predicted: Joseph\n",
      "Actual: JONSOL      -  Predicted: Joseph\n",
      "Actual: Joseph      -  Predicted: Joseph\n",
      "Actual: Joseph      -  Predicted: Joseph\n",
      "Actual: JONSOL      -  Predicted: JONSOL\n",
      "Actual: Joseph      -  Predicted: Joseph\n",
      "Actual: Joseph      -  Predicted: Joseph\n",
      "Actual: Joseph      -  Predicted: Joseph\n",
      "Actual: JONSOL      -  Predicted: JONSOL\n",
      "Actual: JONSOL      -  Predicted: JONSOL\n",
      "Actual: Joseph      -  Predicted: Joseph\n"
     ]
    }
   ],
   "source": [
    "from sklearn.ensemble import RandomForestClassifier\n",
    "from sklearn.model_selection import train_test_split\n",
    "\n",
    "# Split into train and test sets\n",
    "X_train, X_test, Y_train, Y_test = train_test_split(X_actual, Y_actual, random_state=0)\n",
    "\n",
    "# Create random forests classifier object\n",
    "# n_jobs controls multithreading, -1 uses all available threads\n",
    "# criterion determines how well a feature splits data, we use gini\n",
    "# max_features determines the number of candidate features available for a best split\n",
    "# n_estimators determines the number of trees in our forest\n",
    "# oob_score determines whether or not our forest uses out of bag error\n",
    "rfc = RandomForestClassifier(n_jobs=-1, criterion='gini', max_features= 'sqrt', n_estimators = 100, oob_score = True) \n",
    "\n",
    "model = rfc.fit(X_train, Y_train)\n",
    "\n",
    "# Print best score\n",
    "print( \n",
    "    f\"Train score: {rfc.score(X_train, Y_train)} \" +\n",
    "    f\"Test score: {rfc.score(X_test, Y_test)}\"\n",
    ")\n",
    "\n",
    "# Predict on test set\n",
    "Y_predict = rfc.predict(X_test)\n",
    "\n",
    "# Ouput predictions vs ground truth values\n",
    "for i in range(len(Y_predict)):\n",
    "    print(f\"Actual: {Y_test[i]:<10}  -  Predicted: {Y_predict[i]}\")"
   ]
  },
  {
   "cell_type": "code",
   "execution_count": 43,
   "metadata": {},
   "outputs": [
    {
     "ename": "TypeError",
     "evalue": "'method' object is not subscriptable",
     "output_type": "error",
     "traceback": [
      "\u001b[1;31m---------------------------------------------------------------------------\u001b[0m",
      "\u001b[1;31mTypeError\u001b[0m                                 Traceback (most recent call last)",
      "\u001b[1;32m~\\AppData\\Local\\Temp/ipykernel_2368/798295554.py\u001b[0m in \u001b[0;36m<module>\u001b[1;34m\u001b[0m\n\u001b[0;32m      4\u001b[0m \u001b[0mimportances\u001b[0m \u001b[1;33m=\u001b[0m \u001b[0mmodel\u001b[0m\u001b[1;33m.\u001b[0m\u001b[0mfeature_importances_\u001b[0m\u001b[1;33m\u001b[0m\u001b[1;33m\u001b[0m\u001b[0m\n\u001b[0;32m      5\u001b[0m \u001b[0mindices\u001b[0m \u001b[1;33m=\u001b[0m \u001b[0mnp\u001b[0m\u001b[1;33m.\u001b[0m\u001b[0margsort\u001b[0m\u001b[1;33m(\u001b[0m\u001b[0mimportances\u001b[0m\u001b[1;33m[\u001b[0m\u001b[1;33m:\u001b[0m\u001b[1;33m:\u001b[0m\u001b[1;33m-\u001b[0m\u001b[1;36m1\u001b[0m\u001b[1;33m]\u001b[0m\u001b[1;33m)\u001b[0m\u001b[1;33m\u001b[0m\u001b[1;33m\u001b[0m\u001b[0m\n\u001b[1;32m----> 6\u001b[1;33m \u001b[0mnames\u001b[0m \u001b[1;33m=\u001b[0m \u001b[1;33m[\u001b[0m\u001b[0mheatmap\u001b[0m\u001b[1;33m.\u001b[0m\u001b[0mheatmap_data\u001b[0m\u001b[1;33m[\u001b[0m\u001b[0mi\u001b[0m\u001b[1;33m]\u001b[0m \u001b[1;32mfor\u001b[0m \u001b[0mi\u001b[0m \u001b[1;32min\u001b[0m \u001b[0mindices\u001b[0m\u001b[1;33m]\u001b[0m\u001b[1;33m\u001b[0m\u001b[1;33m\u001b[0m\u001b[0m\n\u001b[0m\u001b[0;32m      7\u001b[0m \u001b[1;33m\u001b[0m\u001b[0m\n\u001b[0;32m      8\u001b[0m \u001b[1;31m# Barplot\u001b[0m\u001b[1;33m\u001b[0m\u001b[1;33m\u001b[0m\u001b[0m\n",
      "\u001b[1;32m~\\AppData\\Local\\Temp/ipykernel_2368/798295554.py\u001b[0m in \u001b[0;36m<listcomp>\u001b[1;34m(.0)\u001b[0m\n\u001b[0;32m      4\u001b[0m \u001b[0mimportances\u001b[0m \u001b[1;33m=\u001b[0m \u001b[0mmodel\u001b[0m\u001b[1;33m.\u001b[0m\u001b[0mfeature_importances_\u001b[0m\u001b[1;33m\u001b[0m\u001b[1;33m\u001b[0m\u001b[0m\n\u001b[0;32m      5\u001b[0m \u001b[0mindices\u001b[0m \u001b[1;33m=\u001b[0m \u001b[0mnp\u001b[0m\u001b[1;33m.\u001b[0m\u001b[0margsort\u001b[0m\u001b[1;33m(\u001b[0m\u001b[0mimportances\u001b[0m\u001b[1;33m[\u001b[0m\u001b[1;33m:\u001b[0m\u001b[1;33m:\u001b[0m\u001b[1;33m-\u001b[0m\u001b[1;36m1\u001b[0m\u001b[1;33m]\u001b[0m\u001b[1;33m)\u001b[0m\u001b[1;33m\u001b[0m\u001b[1;33m\u001b[0m\u001b[0m\n\u001b[1;32m----> 6\u001b[1;33m \u001b[0mnames\u001b[0m \u001b[1;33m=\u001b[0m \u001b[1;33m[\u001b[0m\u001b[0mheatmap\u001b[0m\u001b[1;33m.\u001b[0m\u001b[0mheatmap_data\u001b[0m\u001b[1;33m[\u001b[0m\u001b[0mi\u001b[0m\u001b[1;33m]\u001b[0m \u001b[1;32mfor\u001b[0m \u001b[0mi\u001b[0m \u001b[1;32min\u001b[0m \u001b[0mindices\u001b[0m\u001b[1;33m]\u001b[0m\u001b[1;33m\u001b[0m\u001b[1;33m\u001b[0m\u001b[0m\n\u001b[0m\u001b[0;32m      7\u001b[0m \u001b[1;33m\u001b[0m\u001b[0m\n\u001b[0;32m      8\u001b[0m \u001b[1;31m# Barplot\u001b[0m\u001b[1;33m\u001b[0m\u001b[1;33m\u001b[0m\u001b[0m\n",
      "\u001b[1;31mTypeError\u001b[0m: 'method' object is not subscriptable"
     ]
    }
   ],
   "source": [
    "import matplotlib.pyplot as plt\n",
    "\n",
    "# We want to plot the feature importance of all features to see how our classifier is splitting data\n",
    "importances = model.feature_importances_\n",
    "indices = np.argsort(importances[::-1])\n",
    "names = [heatmap.heatmap_data[i] for i in indices]\n",
    "\n",
    "# Barplot\n",
    "plt.bar(range(X_train.shape[1]), importances[indices])\n",
    "# Add feature names as x-axis labels\n",
    "plt.xticks(range(X_train.shape[1]), names, rotation=20, fontsize = 8)\n",
    "# Create plot title\n",
    "plt.title(\"Feature Importance\")\n",
    "# Show plot\n",
    "plt.show()"
   ]
  }
 ],
 "metadata": {
  "interpreter": {
   "hash": "3d5bf2daa12135056af9b186db1e487be91cae65f5c3e89fd85c20702a2d6705"
  },
  "kernelspec": {
   "display_name": "Python 3.10.0 64-bit (windows store)",
   "language": "python",
   "name": "python3"
  },
  "language_info": {
   "codemirror_mode": {
    "name": "ipython",
    "version": 3
   },
   "file_extension": ".py",
   "mimetype": "text/x-python",
   "name": "python",
   "nbconvert_exporter": "python",
   "pygments_lexer": "ipython3",
   "version": "3.10.0"
  },
  "orig_nbformat": 4
 },
 "nbformat": 4,
 "nbformat_minor": 2
}
