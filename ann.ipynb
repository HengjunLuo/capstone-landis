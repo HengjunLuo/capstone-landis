{
 "cells": [
  {
   "cell_type": "markdown",
   "metadata": {},
   "source": [
    "## Extracting data from logfiles"
   ]
  },
  {
   "cell_type": "code",
   "execution_count": 28,
   "metadata": {},
   "outputs": [
    {
     "name": "stdout",
     "output_type": "stream",
     "text": [
      "Data samples: 36\n"
     ]
    }
   ],
   "source": [
    "from log_parser import parse_keyboard_log\n",
    "from keyboard_heatmap import KeyboardHeatmap\n",
    "\n",
    "# Segment length of each data sample\n",
    "seg_length = 60\n",
    "\n",
    "# List of parsed logfiles\n",
    "keyboard = []\n",
    "keyboard.append(parse_keyboard_log(\"keylogs/joseph/keyboard.log\"))\n",
    "keyboard.append(parse_keyboard_log(\"keylogs/jonathan/keyboard.log\"))\n",
    "keyboard.append(parse_keyboard_log(\"keylogs/zirui/keyboard.log\"))\n",
    "\n",
    "# Hack to get the number of segments contained in each file\n",
    "lengths = [\n",
    "    keyboard[0].time.iloc[-1] / seg_length,\n",
    "    keyboard[1].time.iloc[-1] / seg_length,\n",
    "    keyboard[2].time.iloc[-1] / seg_length\n",
    "]\n",
    "\n",
    "# Empty lists for inserting data\n",
    "X_actual = []\n",
    "y_actual = []\n",
    "\n",
    "\n",
    "for k in range(len(keyboard)):\n",
    "    for i in range(int(lengths[k])):\n",
    "        # For each segment in each logfile\n",
    "        # Create a heatmap for that segment\n",
    "        heatmap = KeyboardHeatmap(keyboard[k], i, seg_length)\n",
    "        # If the heatmap isn't blank\n",
    "        if heatmap.class_label() != 'Null':\n",
    "            X_actual.append(heatmap.heatmap_data().ravel().tolist())\n",
    "            y_actual.append(heatmap.class_label())\n",
    "\n",
    "# Display features\n",
    "\"\"\"\n",
    "for i in range(len(X_actual)):\n",
    "    print(X_actual[i][:10], y_actual[i])\n",
    "\"\"\"\n",
    "print(f\"Data samples: {len(y_actual)}\")"
   ]
  },
  {
   "cell_type": "markdown",
   "metadata": {},
   "source": [
    "## Training a ANN model on keyboard heatmap data"
   ]
  },
  {
   "cell_type": "code",
   "execution_count": 129,
   "metadata": {},
   "outputs": [
    {
     "name": "stdout",
     "output_type": "stream",
     "text": [
      "Result on Training data\n",
      "[[ 6  0  0]\n",
      " [ 0 12  0]\n",
      " [ 0  0  9]]\n",
      "              precision    recall  f1-score   support\n",
      "\n",
      "      JONSOL       1.00      1.00      1.00         6\n",
      "      Joseph       1.00      1.00      1.00        12\n",
      "         nan       1.00      1.00      1.00         9\n",
      "\n",
      "    accuracy                           1.00        27\n",
      "   macro avg       1.00      1.00      1.00        27\n",
      "weighted avg       1.00      1.00      1.00        27\n",
      "\n",
      "Result on Test data\n",
      "[[1 0 2]\n",
      " [1 3 0]\n",
      " [0 0 2]]\n",
      "              precision    recall  f1-score   support\n",
      "\n",
      "      JONSOL       0.50      0.33      0.40         3\n",
      "      Joseph       1.00      0.75      0.86         4\n",
      "         nan       0.50      1.00      0.67         2\n",
      "\n",
      "    accuracy                           0.67         9\n",
      "   macro avg       0.67      0.69      0.64         9\n",
      "weighted avg       0.72      0.67      0.66         9\n",
      "\n"
     ]
    }
   ],
   "source": [
    "import sklearn\n",
    "from sklearn.neural_network import MLPClassifier\n",
    "from sklearn.neural_network import MLPRegressor\n",
    "\n",
    "# Import necessary modules\n",
    "from sklearn.model_selection import train_test_split\n",
    "from sklearn.metrics import mean_squared_error\n",
    "from math import sqrt\n",
    "from sklearn.metrics import r2_score\n",
    "\n",
    "# Split into train and test sets\n",
    "X_train, X_test, y_train, y_test = train_test_split(X_actual, y_actual, random_state=0)\n",
    "\n",
    "mlp = MLPClassifier(hidden_layer_sizes=(65,65), activation='relu', solver='adam', max_iter=1000)\n",
    "mlp.fit(X_train,y_train)\n",
    "\n",
    "predict_train = mlp.predict(X_train)\n",
    "predict_test = mlp.predict(X_test)\n",
    "\n",
    "\n",
    "from sklearn.metrics import classification_report,confusion_matrix\n",
    "print(\"Result on Training data\")\n",
    "print(confusion_matrix(y_train,predict_train))\n",
    "print(classification_report(y_train,predict_train))\n",
    "print(\"Result on Test data\")\n",
    "print(confusion_matrix(y_test,predict_test))\n",
    "print(classification_report(y_test,predict_test))\n",
    "\n"
   ]
  }
 ],
 "metadata": {
  "interpreter": {
   "hash": "63fd5069d213b44bf678585dea6b12cceca9941eaf7f819626cde1f2670de90d"
  },
  "kernelspec": {
   "display_name": "Python 3.9.6 64-bit",
   "language": "python",
   "name": "python3"
  },
  "language_info": {
   "codemirror_mode": {
    "name": "ipython",
    "version": 3
   },
   "file_extension": ".py",
   "mimetype": "text/x-python",
   "name": "python",
   "nbconvert_exporter": "python",
   "pygments_lexer": "ipython3",
   "version": "3.9.6"
  },
  "orig_nbformat": 4
 },
 "nbformat": 4,
 "nbformat_minor": 2
}
