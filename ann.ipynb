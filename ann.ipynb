{
 "cells": [
  {
   "cell_type": "markdown",
   "metadata": {},
   "source": [
    "## Extracting data from logfiles"
   ]
  },
  {
   "cell_type": "code",
   "execution_count": 52,
   "metadata": {},
   "outputs": [
    {
     "name": "stdout",
     "output_type": "stream",
     "text": [
      "Train samples: 145\n",
      "Test samples: 36\n"
     ]
    }
   ],
   "source": [
    "from log_parser import parse_keyboard_log\n",
    "from log_parser import parse_mouse_log\n",
    "from keyboard_heatmap import KeyboardHeatmap\n",
    "\n",
    "# Segment length of each data sample\n",
    "seg_length = 100\n",
    "\n",
    "routing_file = open('.routing', 'r')\n",
    "Lines = routing_file.readlines()\n",
    "\n",
    "# List of parsed logfiles\n",
    "keyboard = []\n",
    "mouse = []\n",
    "\n",
    "for line in Lines:\n",
    "    line = line.strip()\n",
    "    if 'keyboard_actions.log' in line:\n",
    "        keyboard.append(parse_keyboard_log(line))\n",
    "    '''elif 'mouse_actions.log' in line:\n",
    "        mouse.append(parse_mouse_log(line))'''\n",
    "\n",
    "# Split into train and test sets\n",
    "X_train = []\n",
    "X_test = []\n",
    "Y_train = []\n",
    "Y_test = []\n",
    "\n",
    "for k in range(len(keyboard) - 1):\n",
    "    for i in range(int(keyboard[k].time.iloc[-1] / seg_length)):\n",
    "        # For each segment in each logfile\n",
    "        # Create a heatmap for that segment\n",
    "        heatmap = KeyboardHeatmap(keyboard[k], i, seg_length)\n",
    "        bheatmap = heatmap.to_binary_class_label(\"MITSOL\")\n",
    "        # If the heatmap isn't blank\n",
    "        if bheatmap.class_label() != 'Null':\n",
    "            X_train.append(bheatmap.heatmap_data().ravel().tolist())\n",
    "            Y_train.append(bheatmap.class_label())\n",
    "\n",
    "for k in range(len(keyboard) - 1,len(keyboard)):\n",
    "    for i in range(int(keyboard[k].time.iloc[-1] / seg_length)):\n",
    "        # For each segment in each logfile\n",
    "        # Create a heatmap for that segment\n",
    "        heatmap = KeyboardHeatmap(keyboard[k], i, seg_length)\n",
    "        bheatmap = heatmap.to_binary_class_label(\"MITSOL\")\n",
    "        # If the heatmap isn't blank\n",
    "        if bheatmap.class_label() != 'Null':\n",
    "            X_test.append(bheatmap.heatmap_data().ravel().tolist())\n",
    "            Y_test.append(bheatmap.class_label())\n",
    "\n",
    "print(f\"Train samples: {len(Y_train)}\")\n",
    "print(f\"Test samples: {len(Y_test)}\")"
   ]
  },
  {
   "cell_type": "markdown",
   "metadata": {},
   "source": [
    "## Training a ANN model on keyboard heatmap data"
   ]
  },
  {
   "cell_type": "code",
   "execution_count": 66,
   "metadata": {},
   "outputs": [
    {
     "name": "stdout",
     "output_type": "stream",
     "text": [
      "Result on Training data\n",
      "[[109   0]\n",
      " [  0  36]]\n",
      "              precision    recall  f1-score   support\n",
      "\n",
      "           0       1.00      1.00      1.00       109\n",
      "           1       1.00      1.00      1.00        36\n",
      "\n",
      "    accuracy                           1.00       145\n",
      "   macro avg       1.00      1.00      1.00       145\n",
      "weighted avg       1.00      1.00      1.00       145\n",
      "\n",
      "Result on Test data\n",
      "[[11 25]\n",
      " [ 0  0]]\n",
      "              precision    recall  f1-score   support\n",
      "\n",
      "           0       1.00      0.31      0.47        36\n",
      "           1       0.00      0.00      0.00         0\n",
      "\n",
      "    accuracy                           0.31        36\n",
      "   macro avg       0.50      0.15      0.23        36\n",
      "weighted avg       1.00      0.31      0.47        36\n",
      "\n"
     ]
    },
    {
     "name": "stderr",
     "output_type": "stream",
     "text": [
      "C:\\Python39\\lib\\site-packages\\sklearn\\metrics\\_classification.py:1308: UndefinedMetricWarning: Recall and F-score are ill-defined and being set to 0.0 in labels with no true samples. Use `zero_division` parameter to control this behavior.\n",
      "  _warn_prf(average, modifier, msg_start, len(result))\n",
      "C:\\Python39\\lib\\site-packages\\sklearn\\metrics\\_classification.py:1308: UndefinedMetricWarning: Recall and F-score are ill-defined and being set to 0.0 in labels with no true samples. Use `zero_division` parameter to control this behavior.\n",
      "  _warn_prf(average, modifier, msg_start, len(result))\n",
      "C:\\Python39\\lib\\site-packages\\sklearn\\metrics\\_classification.py:1308: UndefinedMetricWarning: Recall and F-score are ill-defined and being set to 0.0 in labels with no true samples. Use `zero_division` parameter to control this behavior.\n",
      "  _warn_prf(average, modifier, msg_start, len(result))\n"
     ]
    }
   ],
   "source": [
    "import sklearn\n",
    "from sklearn.neural_network import MLPClassifier\n",
    "from sklearn.neural_network import MLPRegressor\n",
    "\n",
    "# Import necessary modules\n",
    "from sklearn.model_selection import train_test_split\n",
    "from sklearn.metrics import mean_squared_error\n",
    "from math import sqrt\n",
    "from sklearn.metrics import r2_score\n",
    "from sklearn.preprocessing import StandardScaler\n",
    "import random\n",
    "\n",
    "# Make random_state random each run, it causes different data shuffel each run.\n",
    "# Make it a constant if want to test activation funcyion and/or solver\n",
    "randomState = random.randint(0,10000)\n",
    "\n",
    "# Split into train and test sets. 70% for traning data, 30% for test data\n",
    "#X_train, X_test, Y_train, Y_test = train_test_split(X_actual, Y_actual, random_state=randomState, test_size=0.3)\n",
    "\n",
    "# Normalize the data to make it easier and faster for MLP to converge\n",
    "scaler = StandardScaler()\n",
    "# Fit only to the training data\n",
    "scaler.fit(X_train)\n",
    "StandardScaler(copy=True, with_mean=True, with_std=True)\n",
    "# Now apply the transformations to the data:\n",
    "X_train = scaler.transform(X_train)\n",
    "X_test = scaler.transform(X_test)\n",
    "\n",
    "\n",
    "\n",
    "# Activation: 'relu' and 'logistic' are considered useful. But their performances are very similar now.\n",
    "# Solver: 'adam' is better for dataset with thousands of samples, 'lbfgs' is much faster for small dataset\n",
    "#         But 'adam' performs better in our case.\n",
    "\n",
    "mlp = MLPClassifier(hidden_layer_sizes=(100,100), activation='relu', solver='adam', max_iter=10000)\n",
    "mlp.fit(X_train,Y_train)\n",
    "\n",
    "predict_train = mlp.predict(X_train)\n",
    "predict_test = mlp.predict(X_test)\n",
    "\n",
    "#Show model prediction and evaluation\n",
    "from sklearn.metrics import classification_report,confusion_matrix\n",
    "print(\"Result on Training data\")\n",
    "print(confusion_matrix(Y_train,predict_train))\n",
    "print(classification_report(Y_train,predict_train))\n",
    "print(\"Result on Test data\")\n",
    "print(confusion_matrix(Y_test,predict_test))\n",
    "print(classification_report(Y_test,predict_test))\n",
    "\n"
   ]
  }
 ],
 "metadata": {
  "interpreter": {
   "hash": "63fd5069d213b44bf678585dea6b12cceca9941eaf7f819626cde1f2670de90d"
  },
  "kernelspec": {
   "display_name": "Python 3.9.6 64-bit",
   "language": "python",
   "name": "python3"
  },
  "language_info": {
   "codemirror_mode": {
    "name": "ipython",
    "version": 3
   },
   "file_extension": ".py",
   "mimetype": "text/x-python",
   "name": "python",
   "nbconvert_exporter": "python",
   "pygments_lexer": "ipython3",
   "version": "3.9.6"
  },
  "orig_nbformat": 4
 },
 "nbformat": 4,
 "nbformat_minor": 2
}
