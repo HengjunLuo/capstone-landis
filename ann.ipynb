{
 "cells": [
  {
   "cell_type": "markdown",
   "metadata": {},
   "source": [
    "## Extracting data from logfiles"
   ]
  },
  {
   "cell_type": "code",
   "execution_count": 10,
   "metadata": {},
   "outputs": [
    {
     "name": "stdout",
     "output_type": "stream",
     "text": [
      "Data samples: 151\n"
     ]
    }
   ],
   "source": [
    "from log_parser import parse_keyboard_log\n",
    "from log_parser import parse_mouse_log\n",
    "from keyboard_heatmap import KeyboardHeatmap\n",
    "\n",
    "# Segment length of each data sample\n",
    "seg_length = 120\n",
    "\n",
    "routing_file = open('.routing', 'r')\n",
    "Lines = routing_file.readlines()\n",
    "\n",
    "# List of parsed logfiles\n",
    "keyboard = []\n",
    "mouse = []\n",
    "\n",
    "for line in Lines:\n",
    "    line = line.strip()\n",
    "    if 'keyboard_actions.log' in line:\n",
    "        keyboard.append(parse_keyboard_log(line))\n",
    "    '''elif 'mouse_actions.log' in line: # Don't use mouse log for now, we need a better design\n",
    "        mouse.append(parse_mouse_log(line))'''\n",
    "\n",
    "# Empty lists for inserting data\n",
    "X_actual = []\n",
    "Y_actual = []\n",
    "\n",
    "for k in range(len(keyboard)):\n",
    "    for i in range(int(keyboard[k].time.iloc[-1] / seg_length)):\n",
    "        # For each segment in each logfile\n",
    "        # Create a heatmap for that segment\n",
    "        heatmap = KeyboardHeatmap(keyboard[k], i, seg_length)\n",
    "        # If the heatmap isn't blank\n",
    "        if heatmap.class_label() != 'Null':\n",
    "            X_actual.append(heatmap.heatmap_data().ravel().tolist())\n",
    "            Y_actual.append(heatmap.class_label())\n",
    "\n",
    "print(f\"Data samples: {len(Y_actual)}\")"
   ]
  },
  {
   "cell_type": "markdown",
   "metadata": {},
   "source": [
    "## Training a ANN model on keyboard heatmap data"
   ]
  },
  {
   "cell_type": "code",
   "execution_count": 11,
   "metadata": {},
   "outputs": [
    {
     "name": "stdout",
     "output_type": "stream",
     "text": [
      "Result on Training data\n",
      "[[18  0  0  0  0]\n",
      " [ 0 20  0  0  0]\n",
      " [ 0  0 24  0  0]\n",
      " [ 0  0  0 25  0]\n",
      " [ 0  0  0  0 18]]\n",
      "              precision    recall  f1-score   support\n",
      "\n",
      "      HENSOL       1.00      1.00      1.00        18\n",
      "      JONSPY       1.00      1.00      1.00        20\n",
      "      MARSOL       1.00      1.00      1.00        24\n",
      "      MITSOL       1.00      1.00      1.00        25\n",
      "      ZIRSOL       1.00      1.00      1.00        18\n",
      "\n",
      "    accuracy                           1.00       105\n",
      "   macro avg       1.00      1.00      1.00       105\n",
      "weighted avg       1.00      1.00      1.00       105\n",
      "\n",
      "Result on Test data\n",
      "[[10  0  0  2  0]\n",
      " [ 0 11  0  0  0]\n",
      " [ 0  0  5  1  0]\n",
      " [ 0  0  0  5  0]\n",
      " [ 0  0  0  1 11]]\n",
      "              precision    recall  f1-score   support\n",
      "\n",
      "      HENSOL       1.00      0.83      0.91        12\n",
      "      JONSPY       1.00      1.00      1.00        11\n",
      "      MARSOL       1.00      0.83      0.91         6\n",
      "      MITSOL       0.56      1.00      0.71         5\n",
      "      ZIRSOL       1.00      0.92      0.96        12\n",
      "\n",
      "    accuracy                           0.91        46\n",
      "   macro avg       0.91      0.92      0.90        46\n",
      "weighted avg       0.95      0.91      0.92        46\n",
      "\n"
     ]
    }
   ],
   "source": [
    "import sklearn\n",
    "from sklearn.neural_network import MLPClassifier\n",
    "from sklearn.neural_network import MLPRegressor\n",
    "\n",
    "# Import necessary modules\n",
    "from sklearn.model_selection import train_test_split\n",
    "from sklearn.metrics import mean_squared_error\n",
    "from math import sqrt\n",
    "from sklearn.metrics import r2_score\n",
    "from sklearn.preprocessing import StandardScaler\n",
    "import random\n",
    "\n",
    "# Make random_state random each run, it causes different data shuffel each run.\n",
    "# Make it a constant if want to test activation funcyion and/or solver\n",
    "randomState = random.randint(0,10000)\n",
    "\n",
    "# Split into train and test sets. 70% for traning data, 30% for test data\n",
    "X_train, X_test, Y_train, Y_test = train_test_split(X_actual, Y_actual, random_state=randomState, test_size=0.3)\n",
    "\n",
    "# Normalize the data to make it easier and faster for MLP to converge\n",
    "scaler = StandardScaler()\n",
    "# Fit only to the training data\n",
    "scaler.fit(X_train)\n",
    "StandardScaler(copy=True, with_mean=True, with_std=True)\n",
    "# Now apply the transformations to the data:\n",
    "X_train = scaler.transform(X_train)\n",
    "X_test = scaler.transform(X_test)\n",
    "\n",
    "\n",
    "\n",
    "# Activation: 'relu' and 'logistic' are considered useful. But their performances are very similar now.\n",
    "# Solver: 'adam' is better for dataset with thousands of samples, 'lbfgs' is much faster for small dataset\n",
    "#         But 'adam' performs better in our case.\n",
    "\n",
    "mlp = MLPClassifier(hidden_layer_sizes=(100,100), activation='relu', solver='lbfgs', max_iter=10000)\n",
    "mlp.fit(X_train,Y_train)\n",
    "\n",
    "predict_train = mlp.predict(X_train)\n",
    "predict_test = mlp.predict(X_test)\n",
    "\n",
    "#Show model prediction and evaluation\n",
    "from sklearn.metrics import classification_report,confusion_matrix\n",
    "print(\"Result on Training data\")\n",
    "print(confusion_matrix(Y_train,predict_train))\n",
    "print(classification_report(Y_train,predict_train))\n",
    "print(\"Result on Test data\")\n",
    "print(confusion_matrix(Y_test,predict_test))\n",
    "print(classification_report(Y_test,predict_test))\n",
    "\n"
   ]
  }
 ],
 "metadata": {
  "interpreter": {
   "hash": "63fd5069d213b44bf678585dea6b12cceca9941eaf7f819626cde1f2670de90d"
  },
  "kernelspec": {
   "display_name": "Python 3.9.6 64-bit",
   "language": "python",
   "name": "python3"
  },
  "language_info": {
   "codemirror_mode": {
    "name": "ipython",
    "version": 3
   },
   "file_extension": ".py",
   "mimetype": "text/x-python",
   "name": "python",
   "nbconvert_exporter": "python",
   "pygments_lexer": "ipython3",
   "version": "3.9.6"
  },
  "orig_nbformat": 4
 },
 "nbformat": 4,
 "nbformat_minor": 2
}
